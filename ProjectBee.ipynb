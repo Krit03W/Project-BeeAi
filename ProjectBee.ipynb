{
  "nbformat": 4,
  "nbformat_minor": 0,
  "metadata": {
    "kernelspec": {
      "display_name": "TensorFlow-GPU",
      "language": "python",
      "name": "tf"
    },
    "language_info": {
      "codemirror_mode": {
        "name": "ipython",
        "version": 3
      },
      "file_extension": ".py",
      "mimetype": "text/x-python",
      "name": "python",
      "nbconvert_exporter": "python",
      "pygments_lexer": "ipython3",
      "version": "3.8.8"
    },
    "colab": {
      "name": "Untitled.ipynb",
      "provenance": [],
      "collapsed_sections": [],
      "include_colab_link": true
    }
  },
  "cells": [
    {
      "cell_type": "markdown",
      "metadata": {
        "id": "view-in-github",
        "colab_type": "text"
      },
      "source": [
        "<a href=\"https://colab.research.google.com/github/krit0885824924/Project-BeeAi/blob/main/ProjectBee.ipynb\" target=\"_parent\"><img src=\"https://colab.research.google.com/assets/colab-badge.svg\" alt=\"Open In Colab\"/></a>"
      ]
    },
    {
      "cell_type": "code",
      "metadata": {
        "id": "KIFWqO4VTNd8"
      },
      "source": [
        "import tensorflow as tf"
      ],
      "execution_count": null,
      "outputs": []
    },
    {
      "cell_type": "code",
      "metadata": {
        "id": "d4oj-HAfTNeA"
      },
      "source": [
        "import os"
      ],
      "execution_count": null,
      "outputs": []
    },
    {
      "cell_type": "code",
      "metadata": {
        "id": "g10fu7fmTNeB"
      },
      "source": [
        "import numpy as np\n",
        "import pandas as pd"
      ],
      "execution_count": null,
      "outputs": []
    },
    {
      "cell_type": "code",
      "metadata": {
        "id": "OXYIZdSuTNeC"
      },
      "source": [
        "from tqdm import tqdm"
      ],
      "execution_count": null,
      "outputs": []
    },
    {
      "cell_type": "code",
      "metadata": {
        "id": "8Akt3hXRTNeD"
      },
      "source": [
        "!dir"
      ],
      "execution_count": null,
      "outputs": []
    },
    {
      "cell_type": "code",
      "metadata": {
        "id": "ayatwZOvTNeE",
        "outputId": "a18968de-803d-49a3-8888-6522a34227b5"
      },
      "source": [
        "df = pd.read_csv('pollen_data.csv')\n",
        "df"
      ],
      "execution_count": null,
      "outputs": [
        {
          "output_type": "execute_result",
          "data": {
            "text/html": [
              "<div>\n",
              "<style scoped>\n",
              "    .dataframe tbody tr th:only-of-type {\n",
              "        vertical-align: middle;\n",
              "    }\n",
              "\n",
              "    .dataframe tbody tr th {\n",
              "        vertical-align: top;\n",
              "    }\n",
              "\n",
              "    .dataframe thead th {\n",
              "        text-align: right;\n",
              "    }\n",
              "</style>\n",
              "<table border=\"1\" class=\"dataframe\">\n",
              "  <thead>\n",
              "    <tr style=\"text-align: right;\">\n",
              "      <th></th>\n",
              "      <th>Unnamed: 0</th>\n",
              "      <th>filename</th>\n",
              "      <th>pollen_carrying</th>\n",
              "    </tr>\n",
              "  </thead>\n",
              "  <tbody>\n",
              "    <tr>\n",
              "      <th>0</th>\n",
              "      <td>0</td>\n",
              "      <td>P10057-125r.jpg</td>\n",
              "      <td>1</td>\n",
              "    </tr>\n",
              "    <tr>\n",
              "      <th>1</th>\n",
              "      <td>1</td>\n",
              "      <td>P57380-120r.jpg</td>\n",
              "      <td>1</td>\n",
              "    </tr>\n",
              "    <tr>\n",
              "      <th>2</th>\n",
              "      <td>2</td>\n",
              "      <td>NP63671-221r.jpg</td>\n",
              "      <td>0</td>\n",
              "    </tr>\n",
              "    <tr>\n",
              "      <th>3</th>\n",
              "      <td>3</td>\n",
              "      <td>NP53776-47r.jpg</td>\n",
              "      <td>0</td>\n",
              "    </tr>\n",
              "    <tr>\n",
              "      <th>4</th>\n",
              "      <td>4</td>\n",
              "      <td>NP13382-201r.jpg</td>\n",
              "      <td>0</td>\n",
              "    </tr>\n",
              "    <tr>\n",
              "      <th>...</th>\n",
              "      <td>...</td>\n",
              "      <td>...</td>\n",
              "      <td>...</td>\n",
              "    </tr>\n",
              "    <tr>\n",
              "      <th>709</th>\n",
              "      <td>709</td>\n",
              "      <td>NP64239-233r.jpg</td>\n",
              "      <td>0</td>\n",
              "    </tr>\n",
              "    <tr>\n",
              "      <th>710</th>\n",
              "      <td>710</td>\n",
              "      <td>NP10304-132r.jpg</td>\n",
              "      <td>0</td>\n",
              "    </tr>\n",
              "    <tr>\n",
              "      <th>711</th>\n",
              "      <td>711</td>\n",
              "      <td>NP28671-238r.jpg</td>\n",
              "      <td>0</td>\n",
              "    </tr>\n",
              "    <tr>\n",
              "      <th>712</th>\n",
              "      <td>712</td>\n",
              "      <td>P14163-218r.jpg</td>\n",
              "      <td>1</td>\n",
              "    </tr>\n",
              "    <tr>\n",
              "      <th>713</th>\n",
              "      <td>713</td>\n",
              "      <td>NP1768-11r.jpg</td>\n",
              "      <td>0</td>\n",
              "    </tr>\n",
              "  </tbody>\n",
              "</table>\n",
              "<p>714 rows × 3 columns</p>\n",
              "</div>"
            ],
            "text/plain": [
              "     Unnamed: 0          filename  pollen_carrying\n",
              "0             0   P10057-125r.jpg                1\n",
              "1             1   P57380-120r.jpg                1\n",
              "2             2  NP63671-221r.jpg                0\n",
              "3             3   NP53776-47r.jpg                0\n",
              "4             4  NP13382-201r.jpg                0\n",
              "..          ...               ...              ...\n",
              "709         709  NP64239-233r.jpg                0\n",
              "710         710  NP10304-132r.jpg                0\n",
              "711         711  NP28671-238r.jpg                0\n",
              "712         712   P14163-218r.jpg                1\n",
              "713         713    NP1768-11r.jpg                0\n",
              "\n",
              "[714 rows x 3 columns]"
            ]
          },
          "metadata": {
            "tags": []
          },
          "execution_count": 5
        }
      ]
    },
    {
      "cell_type": "code",
      "metadata": {
        "id": "Ik_Kf8wqTNeG",
        "outputId": "7de87d32-3c31-4907-a324-a8ee822febc6"
      },
      "source": [
        "df['pollen_carrying'].value_counts()"
      ],
      "execution_count": null,
      "outputs": [
        {
          "output_type": "execute_result",
          "data": {
            "text/plain": [
              "1    369\n",
              "0    345\n",
              "Name: pollen_carrying, dtype: int64"
            ]
          },
          "metadata": {
            "tags": []
          },
          "execution_count": 6
        }
      ]
    },
    {
      "cell_type": "code",
      "metadata": {
        "id": "45pz0ZiaTNeH"
      },
      "source": [
        "import random "
      ],
      "execution_count": null,
      "outputs": []
    },
    {
      "cell_type": "code",
      "metadata": {
        "id": "od3gxZLFTNeI"
      },
      "source": [
        "random.seed(69420)"
      ],
      "execution_count": null,
      "outputs": []
    },
    {
      "cell_type": "code",
      "metadata": {
        "id": "SjYd7s63TNeL",
        "outputId": "4a77e608-6b16-4d41-90f2-2bd8eb72d711"
      },
      "source": [
        "df['subset'] = random.choices([0,1,2],[0.8,0.1,0.1],k = len(df))\n",
        "df"
      ],
      "execution_count": null,
      "outputs": [
        {
          "output_type": "execute_result",
          "data": {
            "text/html": [
              "<div>\n",
              "<style scoped>\n",
              "    .dataframe tbody tr th:only-of-type {\n",
              "        vertical-align: middle;\n",
              "    }\n",
              "\n",
              "    .dataframe tbody tr th {\n",
              "        vertical-align: top;\n",
              "    }\n",
              "\n",
              "    .dataframe thead th {\n",
              "        text-align: right;\n",
              "    }\n",
              "</style>\n",
              "<table border=\"1\" class=\"dataframe\">\n",
              "  <thead>\n",
              "    <tr style=\"text-align: right;\">\n",
              "      <th></th>\n",
              "      <th>Unnamed: 0</th>\n",
              "      <th>filename</th>\n",
              "      <th>pollen_carrying</th>\n",
              "      <th>subset</th>\n",
              "    </tr>\n",
              "  </thead>\n",
              "  <tbody>\n",
              "    <tr>\n",
              "      <th>0</th>\n",
              "      <td>0</td>\n",
              "      <td>P10057-125r.jpg</td>\n",
              "      <td>1</td>\n",
              "      <td>0</td>\n",
              "    </tr>\n",
              "    <tr>\n",
              "      <th>1</th>\n",
              "      <td>1</td>\n",
              "      <td>P57380-120r.jpg</td>\n",
              "      <td>1</td>\n",
              "      <td>0</td>\n",
              "    </tr>\n",
              "    <tr>\n",
              "      <th>2</th>\n",
              "      <td>2</td>\n",
              "      <td>NP63671-221r.jpg</td>\n",
              "      <td>0</td>\n",
              "      <td>0</td>\n",
              "    </tr>\n",
              "    <tr>\n",
              "      <th>3</th>\n",
              "      <td>3</td>\n",
              "      <td>NP53776-47r.jpg</td>\n",
              "      <td>0</td>\n",
              "      <td>1</td>\n",
              "    </tr>\n",
              "    <tr>\n",
              "      <th>4</th>\n",
              "      <td>4</td>\n",
              "      <td>NP13382-201r.jpg</td>\n",
              "      <td>0</td>\n",
              "      <td>0</td>\n",
              "    </tr>\n",
              "    <tr>\n",
              "      <th>...</th>\n",
              "      <td>...</td>\n",
              "      <td>...</td>\n",
              "      <td>...</td>\n",
              "      <td>...</td>\n",
              "    </tr>\n",
              "    <tr>\n",
              "      <th>709</th>\n",
              "      <td>709</td>\n",
              "      <td>NP64239-233r.jpg</td>\n",
              "      <td>0</td>\n",
              "      <td>0</td>\n",
              "    </tr>\n",
              "    <tr>\n",
              "      <th>710</th>\n",
              "      <td>710</td>\n",
              "      <td>NP10304-132r.jpg</td>\n",
              "      <td>0</td>\n",
              "      <td>0</td>\n",
              "    </tr>\n",
              "    <tr>\n",
              "      <th>711</th>\n",
              "      <td>711</td>\n",
              "      <td>NP28671-238r.jpg</td>\n",
              "      <td>0</td>\n",
              "      <td>0</td>\n",
              "    </tr>\n",
              "    <tr>\n",
              "      <th>712</th>\n",
              "      <td>712</td>\n",
              "      <td>P14163-218r.jpg</td>\n",
              "      <td>1</td>\n",
              "      <td>2</td>\n",
              "    </tr>\n",
              "    <tr>\n",
              "      <th>713</th>\n",
              "      <td>713</td>\n",
              "      <td>NP1768-11r.jpg</td>\n",
              "      <td>0</td>\n",
              "      <td>0</td>\n",
              "    </tr>\n",
              "  </tbody>\n",
              "</table>\n",
              "<p>714 rows × 4 columns</p>\n",
              "</div>"
            ],
            "text/plain": [
              "     Unnamed: 0          filename  pollen_carrying  subset\n",
              "0             0   P10057-125r.jpg                1       0\n",
              "1             1   P57380-120r.jpg                1       0\n",
              "2             2  NP63671-221r.jpg                0       0\n",
              "3             3   NP53776-47r.jpg                0       1\n",
              "4             4  NP13382-201r.jpg                0       0\n",
              "..          ...               ...              ...     ...\n",
              "709         709  NP64239-233r.jpg                0       0\n",
              "710         710  NP10304-132r.jpg                0       0\n",
              "711         711  NP28671-238r.jpg                0       0\n",
              "712         712   P14163-218r.jpg                1       2\n",
              "713         713    NP1768-11r.jpg                0       0\n",
              "\n",
              "[714 rows x 4 columns]"
            ]
          },
          "metadata": {
            "tags": []
          },
          "execution_count": 10
        }
      ]
    },
    {
      "cell_type": "code",
      "metadata": {
        "id": "zEp48T7iTNeM",
        "outputId": "def35244-5c39-4b5e-e78c-e384f4788e64"
      },
      "source": [
        "x = []\n",
        "y = []\n",
        "for i,a in tqdm(df.iterrows()):\n",
        "    x.append(cv2.resize(cv2.imread('images/'+a.filename),(64,64))/255)\n",
        "df['x'] = x"
      ],
      "execution_count": null,
      "outputs": [
        {
          "output_type": "stream",
          "text": [
            "714it [00:00, 794.96it/s]\n"
          ],
          "name": "stderr"
        }
      ]
    },
    {
      "cell_type": "code",
      "metadata": {
        "id": "RYScyFX3TNeN"
      },
      "source": [
        "df"
      ],
      "execution_count": null,
      "outputs": []
    },
    {
      "cell_type": "code",
      "metadata": {
        "id": "KK5tpFuYTNeP"
      },
      "source": [
        "def gene(df,batch):\n",
        "    while 1:\n",
        "        x = []\n",
        "        y = []\n",
        "        sub = df.groupby('pollen_carrying').sample(int(batch/2))\n",
        "        for i,a in sub.iterrows():\n",
        "            x.append(a.x)\n",
        "            y.append(a.pollen_carrying)\n",
        "        yield np.array(x),np.array(y) "
      ],
      "execution_count": null,
      "outputs": []
    },
    {
      "cell_type": "code",
      "metadata": {
        "id": "b1euvihkTNeQ"
      },
      "source": [
        "x,y = next(gene(df,18))"
      ],
      "execution_count": null,
      "outputs": []
    },
    {
      "cell_type": "code",
      "metadata": {
        "id": "oM7P6vBjTNeQ",
        "outputId": "fc7a2560-3248-4c41-98aa-24a914be811f"
      },
      "source": [
        "y"
      ],
      "execution_count": null,
      "outputs": [
        {
          "output_type": "execute_result",
          "data": {
            "text/plain": [
              "array([0, 0, 0, 0, 0, 0, 0, 0, 0, 1, 1, 1, 1, 1, 1, 1, 1, 1])"
            ]
          },
          "metadata": {
            "tags": []
          },
          "execution_count": 16
        }
      ]
    },
    {
      "cell_type": "code",
      "metadata": {
        "id": "vlbfMazeTNeQ"
      },
      "source": [
        "from tensorflow.keras import layers"
      ],
      "execution_count": null,
      "outputs": []
    },
    {
      "cell_type": "code",
      "metadata": {
        "id": "hws4W_xYTNeR"
      },
      "source": [
        "inputs = layers.Input(shape=(64,64,3))\n",
        "x = tf.keras.layers.Conv2D(32,(3,3),padding=\"same\")(inputs)\n",
        "x = tf.keras.layers.BatchNormalization()(x)\n",
        "x = tf.keras.layers.Activation(tf.keras.activations.relu)(x)\n",
        "x = layers.Flatten()(x)\n",
        "x = layers.Dropout(0.1)(x)\n",
        "x = layers.Dense(32,activation='relu')(x)\n",
        "x = layers.Dense(1,activation='sigmoid')(x)\n",
        "model = tf.keras.Model(inputs=inputs, outputs=x)\n",
        "model.compile(loss=\"binary_crossentropy\", optimizer=tf.keras.optimizers.Adam(\n",
        "    learning_rate=0.0001), metrics=[\"accuracy\"])"
      ],
      "execution_count": null,
      "outputs": []
    },
    {
      "cell_type": "code",
      "metadata": {
        "id": "CunHxfEZTNeR",
        "outputId": "03e6132e-5037-4d3d-f816-abd678c9a317"
      },
      "source": [
        "test = model.fit(gene(df[df.subset == 0],90),epochs=20\n",
        "                ,validation_data=(gene(df[df.subset == 1],45))\n",
        "                ,steps_per_epoch=10\n",
        "                ,validation_steps=10)"
      ],
      "execution_count": null,
      "outputs": [
        {
          "output_type": "stream",
          "text": [
            "Epoch 1/20\n",
            "10/10 [==============================] - 4s 359ms/step - loss: 0.9266 - accuracy: 0.5700 - val_loss: 0.6912 - val_accuracy: 0.6932\n",
            "Epoch 2/20\n",
            "10/10 [==============================] - 3s 339ms/step - loss: 0.6653 - accuracy: 0.6822 - val_loss: 0.6894 - val_accuracy: 0.6159\n",
            "Epoch 3/20\n",
            "10/10 [==============================] - 4s 402ms/step - loss: 0.5516 - accuracy: 0.7533 - val_loss: 0.6749 - val_accuracy: 0.6250\n",
            "Epoch 4/20\n",
            "10/10 [==============================] - 4s 381ms/step - loss: 0.5033 - accuracy: 0.7656 - val_loss: 0.6717 - val_accuracy: 0.7477\n",
            "Epoch 5/20\n",
            "10/10 [==============================] - 3s 336ms/step - loss: 0.4551 - accuracy: 0.8078 - val_loss: 0.6648 - val_accuracy: 0.7182\n",
            "Epoch 6/20\n",
            "10/10 [==============================] - 3s 340ms/step - loss: 0.4056 - accuracy: 0.8467 - val_loss: 0.6563 - val_accuracy: 0.8295\n",
            "Epoch 7/20\n",
            "10/10 [==============================] - 4s 358ms/step - loss: 0.3778 - accuracy: 0.8633 - val_loss: 0.6494 - val_accuracy: 0.8068\n",
            "Epoch 8/20\n",
            "10/10 [==============================] - 4s 352ms/step - loss: 0.3499 - accuracy: 0.8733 - val_loss: 0.6416 - val_accuracy: 0.6864\n",
            "Epoch 9/20\n",
            "10/10 [==============================] - 3s 348ms/step - loss: 0.3263 - accuracy: 0.8900 - val_loss: 0.6324 - val_accuracy: 0.7705\n",
            "Epoch 10/20\n",
            "10/10 [==============================] - 3s 343ms/step - loss: 0.2870 - accuracy: 0.8978 - val_loss: 0.6217 - val_accuracy: 0.8477\n",
            "Epoch 11/20\n",
            "10/10 [==============================] - 3s 335ms/step - loss: 0.2824 - accuracy: 0.9033 - val_loss: 0.6125 - val_accuracy: 0.8386\n",
            "Epoch 12/20\n",
            "10/10 [==============================] - 3s 344ms/step - loss: 0.2670 - accuracy: 0.9111 - val_loss: 0.6100 - val_accuracy: 0.8250\n",
            "Epoch 13/20\n",
            "10/10 [==============================] - 3s 347ms/step - loss: 0.2259 - accuracy: 0.9311 - val_loss: 0.5911 - val_accuracy: 0.8773\n",
            "Epoch 14/20\n",
            "10/10 [==============================] - 3s 344ms/step - loss: 0.2171 - accuracy: 0.9256 - val_loss: 0.5881 - val_accuracy: 0.8841\n",
            "Epoch 15/20\n",
            "10/10 [==============================] - 3s 349ms/step - loss: 0.2285 - accuracy: 0.9300 - val_loss: 0.5858 - val_accuracy: 0.8614\n",
            "Epoch 16/20\n",
            "10/10 [==============================] - 3s 339ms/step - loss: 0.2016 - accuracy: 0.9478 - val_loss: 0.5683 - val_accuracy: 0.8477\n",
            "Epoch 17/20\n",
            "10/10 [==============================] - 3s 346ms/step - loss: 0.1996 - accuracy: 0.9400 - val_loss: 0.5613 - val_accuracy: 0.8773\n",
            "Epoch 18/20\n",
            "10/10 [==============================] - 3s 344ms/step - loss: 0.2013 - accuracy: 0.9411 - val_loss: 0.5569 - val_accuracy: 0.8636\n",
            "Epoch 19/20\n",
            "10/10 [==============================] - 3s 344ms/step - loss: 0.1771 - accuracy: 0.9489 - val_loss: 0.5314 - val_accuracy: 0.8977\n",
            "Epoch 20/20\n",
            "10/10 [==============================] - 3s 349ms/step - loss: 0.1599 - accuracy: 0.9622 - val_loss: 0.5242 - val_accuracy: 0.8636\n"
          ],
          "name": "stdout"
        }
      ]
    },
    {
      "cell_type": "code",
      "metadata": {
        "id": "S0MN-N9TTNeR",
        "outputId": "be75408b-db13-4431-9b16-6b36c1b86baa"
      },
      "source": [
        "model.evaluate(gene(df[df.subset == 2],50),steps=100)"
      ],
      "execution_count": null,
      "outputs": [
        {
          "output_type": "stream",
          "text": [
            "100/100 [==============================] - 3s 29ms/step - loss: 0.4908 - accuracy: 0.9260\n"
          ],
          "name": "stdout"
        },
        {
          "output_type": "execute_result",
          "data": {
            "text/plain": [
              "[0.49075984954833984, 0.9259999990463257]"
            ]
          },
          "metadata": {
            "tags": []
          },
          "execution_count": 51
        }
      ]
    },
    {
      "cell_type": "code",
      "metadata": {
        "id": "sn-TId41TNeS",
        "outputId": "e4856e7f-8501-48eb-f13e-e64bc4a35d9f"
      },
      "source": [
        "test.history.keys()"
      ],
      "execution_count": null,
      "outputs": [
        {
          "output_type": "execute_result",
          "data": {
            "text/plain": [
              "dict_keys(['loss', 'accuracy', 'val_loss', 'val_accuracy'])"
            ]
          },
          "metadata": {
            "tags": []
          },
          "execution_count": 62
        }
      ]
    },
    {
      "cell_type": "code",
      "metadata": {
        "id": "cMRpxvRoTNeS",
        "outputId": "1eae2e6a-2c4d-4e9c-9698-ee14ade8cbe6"
      },
      "source": [
        "import matplotlib.pyplot as plt\n",
        "plt.plot(test.history['loss'],label='loss')\n",
        "plt.plot(test.history['val_loss'],label='validation_loss')\n",
        "plt.legend()"
      ],
      "execution_count": null,
      "outputs": [
        {
          "output_type": "execute_result",
          "data": {
            "text/plain": [
              "<matplotlib.legend.Legend at 0x1cc561c1be0>"
            ]
          },
          "metadata": {
            "tags": []
          },
          "execution_count": 71
        },
        {
          "output_type": "display_data",
          "data": {
            "image/png": "[encoded data removed]",
            "text/plain": [
              "<Figure size 432x288 with 1 Axes>"
            ]
          },
          "metadata": {
            "tags": [],
            "needs_background": "light"
          }
        }
      ]
    },
    {
      "cell_type": "code",
      "metadata": {
        "id": "1FHaqbIkTNeT",
        "outputId": "d91f59e9-f6f3-49d2-c0e7-407c243e153b"
      },
      "source": [
        "plt.plot(test.history['accuracy'],label='accuracy')\n",
        "plt.plot(test.history['val_accuracy'],label='validation_accuracy')\n",
        "plt.legend()"
      ],
      "execution_count": null,
      "outputs": [
        {
          "output_type": "execute_result",
          "data": {
            "text/plain": [
              "<matplotlib.legend.Legend at 0x1cc5628ef10>"
            ]
          },
          "metadata": {
            "tags": []
          },
          "execution_count": 73
        },
        {
          "output_type": "display_data",
          "data": {
            "image/png": "[encoded data removed]",
            "text/plain": [
              "<Figure size 432x288 with 1 Axes>"
            ]
          },
          "metadata": {
            "tags": [],
            "needs_background": "light"
          }
        }
      ]
    },
    {
      "cell_type": "code",
      "metadata": {
        "id": "2yW6dwWoTNeU"
      },
      "source": [
        "model.save('bee.h5')"
      ],
      "execution_count": null,
      "outputs": []
    },
    {
      "cell_type": "code",
      "source": [
        "print(np.shape(df.iloc[0]['x']))"
      ],
      "metadata": {
        "id": "M32vNpeKpb5V"
      },
      "execution_count": null,
      "outputs": []
    },
    {
      "cell_type": "code",
      "metadata": {
        "id": "jPFf_LHKTNeU"
      },
      "source": [
        "def test_image(n):\n",
        "  img = df.iloc[n]['x']\n",
        "  img = np.array(img+img)\n",
        "  return model.predict(img)[0]"
      ],
      "execution_count": 42,
      "outputs": []
    },
    {
      "cell_type": "code",
      "source": [
        "def test_image(n):   \n",
        "  img = df.iloc[n]['x']\n",
        "  plt.imshow(df.iloc[n]['x'])\n",
        "  plt.imshow(df.iloc[n]['x'][:, :, ::-1])\n",
        "  img = np.array([img for i in range(2)])   \n",
        "  return model.predict(img)[0]"
      ],
      "metadata": {
        "id": "rMdDdqxKqF_S"
      },
      "execution_count": 55,
      "outputs": []
    },
    {
      "cell_type": "code",
      "source": [
        "test_image(100)"
      ],
      "metadata": {
        "id": "cW6tSg6bqqCE",
        "outputId": "c185f434-a8c7-42ca-fa31-d79bc83fd994",
        "colab": {
          "base_uri": "https://localhost:8080/",
          "height": 285
        }
      },
      "execution_count": 58,
      "outputs": [
        {
          "output_type": "execute_result",
          "data": {
            "text/plain": [
              "array([0.17118672], dtype=float32)"
            ]
          },
          "metadata": {},
          "execution_count": 58
        },
        {
          "output_type": "display_data",
          "data": {
            "image/png": "[encoded data removed]",
            "text/plain": [
              "<Figure size 432x288 with 1 Axes>"
            ]
          },
          "metadata": {
            "needs_background": "light"
          }
        }
      ]
    }
  ]
}