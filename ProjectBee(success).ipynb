{
  "nbformat": 4,
  "nbformat_minor": 0,
  "metadata": {
    "kernelspec": {
      "display_name": "TensorFlow-GPU",
      "language": "python",
      "name": "tf"
    },
    "language_info": {
      "codemirror_mode": {
        "name": "ipython",
        "version": 3
      },
      "file_extension": ".py",
      "mimetype": "text/x-python",
      "name": "python",
      "nbconvert_exporter": "python",
      "pygments_lexer": "ipython3",
      "version": "3.8.8"
    },
    "colab": {
      "name": "Untitled.ipynb",
      "provenance": [],
      "collapsed_sections": [],
      "include_colab_link": true
    }
  },
  "cells": [
    {
      "cell_type": "markdown",
      "metadata": {
        "id": "view-in-github",
        "colab_type": "text"
      },
      "source": [
        "<a href=\"https://colab.research.google.com/github/krit0885824924/Project-BeeAi/blob/main/ProjectBee(success).ipynb\" target=\"_parent\"><img src=\"https://colab.research.google.com/assets/colab-badge.svg\" alt=\"Open In Colab\"/></a>"
      ]
    },
    {
      "cell_type": "code",
      "metadata": {
        "id": "KIFWqO4VTNd8"
      },
      "source": [
        "import tensorflow as tf"
      ],
      "execution_count": 1,
      "outputs": []
    },
    {
      "cell_type": "code",
      "metadata": {
        "id": "d4oj-HAfTNeA"
      },
      "source": [
        "import os"
      ],
      "execution_count": 2,
      "outputs": []
    },
    {
      "cell_type": "code",
      "metadata": {
        "id": "g10fu7fmTNeB"
      },
      "source": [
        "import numpy as np\n",
        "import pandas as pd"
      ],
      "execution_count": 3,
      "outputs": []
    },
    {
      "cell_type": "code",
      "metadata": {
        "id": "OXYIZdSuTNeC"
      },
      "source": [
        "from tqdm import tqdm"
      ],
      "execution_count": 4,
      "outputs": []
    },
    {
      "cell_type": "code",
      "metadata": {
        "id": "8Akt3hXRTNeD",
        "outputId": "671a86c8-2316-40c0-d91b-3e0ae2103bf4",
        "colab": {
          "base_uri": "https://localhost:8080/"
        }
      },
      "source": [
        "!dir"
      ],
      "execution_count": 5,
      "outputs": [
        {
          "output_type": "stream",
          "name": "stdout",
          "text": [
            "sample_data\n"
          ]
        }
      ]
    },
    {
      "cell_type": "code",
      "source": [
        "from google.colab import drive\n",
        "drive.mount(\"/content/drive/\")\n",
        "os.chdir(\"/content/drive/MyDrive/projectbee\")"
      ],
      "metadata": {
        "id": "ah5fzP8GeU1p",
        "outputId": "82b38174-5441-4edb-afa2-5961ffdca7b6",
        "colab": {
          "base_uri": "https://localhost:8080/"
        }
      },
      "execution_count": 7,
      "outputs": [
        {
          "output_type": "stream",
          "name": "stdout",
          "text": [
            "Mounted at /content/drive/\n"
          ]
        }
      ]
    },
    {
      "cell_type": "code",
      "metadata": {
        "id": "ayatwZOvTNeE",
        "outputId": "f103a644-44fa-47b2-be27-32e42708e173",
        "colab": {
          "base_uri": "https://localhost:8080/",
          "height": 424
        }
      },
      "source": [
        "df = pd.read_csv('pollen_data.csv')\n",
        "df"
      ],
      "execution_count": 8,
      "outputs": [
        {
          "output_type": "execute_result",
          "data": {
            "text/html": [
              "\n",
              "  <div id=\"df-697b6718-f583-4bdc-a568-36c2e4fb7890\">\n",
              "    <div class=\"colab-df-container\">\n",
              "      <div>\n",
              "<style scoped>\n",
              "    .dataframe tbody tr th:only-of-type {\n",
              "        vertical-align: middle;\n",
              "    }\n",
              "\n",
              "    .dataframe tbody tr th {\n",
              "        vertical-align: top;\n",
              "    }\n",
              "\n",
              "    .dataframe thead th {\n",
              "        text-align: right;\n",
              "    }\n",
              "</style>\n",
              "<table border=\"1\" class=\"dataframe\">\n",
              "  <thead>\n",
              "    <tr style=\"text-align: right;\">\n",
              "      <th></th>\n",
              "      <th>Unnamed: 0</th>\n",
              "      <th>filename</th>\n",
              "      <th>pollen_carrying</th>\n",
              "    </tr>\n",
              "  </thead>\n",
              "  <tbody>\n",
              "    <tr>\n",
              "      <th>0</th>\n",
              "      <td>0</td>\n",
              "      <td>P10057-125r.jpg</td>\n",
              "      <td>1</td>\n",
              "    </tr>\n",
              "    <tr>\n",
              "      <th>1</th>\n",
              "      <td>1</td>\n",
              "      <td>P57380-120r.jpg</td>\n",
              "      <td>1</td>\n",
              "    </tr>\n",
              "    <tr>\n",
              "      <th>2</th>\n",
              "      <td>2</td>\n",
              "      <td>NP63671-221r.jpg</td>\n",
              "      <td>0</td>\n",
              "    </tr>\n",
              "    <tr>\n",
              "      <th>3</th>\n",
              "      <td>3</td>\n",
              "      <td>NP53776-47r.jpg</td>\n",
              "      <td>0</td>\n",
              "    </tr>\n",
              "    <tr>\n",
              "      <th>4</th>\n",
              "      <td>4</td>\n",
              "      <td>NP13382-201r.jpg</td>\n",
              "      <td>0</td>\n",
              "    </tr>\n",
              "    <tr>\n",
              "      <th>...</th>\n",
              "      <td>...</td>\n",
              "      <td>...</td>\n",
              "      <td>...</td>\n",
              "    </tr>\n",
              "    <tr>\n",
              "      <th>709</th>\n",
              "      <td>709</td>\n",
              "      <td>NP64239-233r.jpg</td>\n",
              "      <td>0</td>\n",
              "    </tr>\n",
              "    <tr>\n",
              "      <th>710</th>\n",
              "      <td>710</td>\n",
              "      <td>NP10304-132r.jpg</td>\n",
              "      <td>0</td>\n",
              "    </tr>\n",
              "    <tr>\n",
              "      <th>711</th>\n",
              "      <td>711</td>\n",
              "      <td>NP28671-238r.jpg</td>\n",
              "      <td>0</td>\n",
              "    </tr>\n",
              "    <tr>\n",
              "      <th>712</th>\n",
              "      <td>712</td>\n",
              "      <td>P14163-218r.jpg</td>\n",
              "      <td>1</td>\n",
              "    </tr>\n",
              "    <tr>\n",
              "      <th>713</th>\n",
              "      <td>713</td>\n",
              "      <td>NP1768-11r.jpg</td>\n",
              "      <td>0</td>\n",
              "    </tr>\n",
              "  </tbody>\n",
              "</table>\n",
              "<p>714 rows × 3 columns</p>\n",
              "</div>\n",
              "      <button class=\"colab-df-convert\" onclick=\"convertToInteractive('df-697b6718-f583-4bdc-a568-36c2e4fb7890')\"\n",
              "              title=\"Convert this dataframe to an interactive table.\"\n",
              "              style=\"display:none;\">\n",
              "        \n",
              "  <svg xmlns=\"http://www.w3.org/2000/svg\" height=\"24px\"viewBox=\"0 0 24 24\"\n",
              "       width=\"24px\">\n",
              "    <path d=\"M0 0h24v24H0V0z\" fill=\"none\"/>\n",
              "    <path d=\"M18.56 5.44l.94 2.06.94-2.06 2.06-.94-2.06-.94-.94-2.06-.94 2.06-2.06.94zm-11 1L8.5 8.5l.94-2.06 2.06-.94-2.06-.94L8.5 2.5l-.94 2.06-2.06.94zm10 10l.94 2.06.94-2.06 2.06-.94-2.06-.94-.94-2.06-.94 2.06-2.06.94z\"/><path d=\"M17.41 7.96l-1.37-1.37c-.4-.4-.92-.59-1.43-.59-.52 0-1.04.2-1.43.59L10.3 9.45l-7.72 7.72c-.78.78-.78 2.05 0 2.83L4 21.41c.39.39.9.59 1.41.59.51 0 1.02-.2 1.41-.59l7.78-7.78 2.81-2.81c.8-.78.8-2.07 0-2.86zM5.41 20L4 18.59l7.72-7.72 1.47 1.35L5.41 20z\"/>\n",
              "  </svg>\n",
              "      </button>\n",
              "      \n",
              "  <style>\n",
              "    .colab-df-container {\n",
              "      display:flex;\n",
              "      flex-wrap:wrap;\n",
              "      gap: 12px;\n",
              "    }\n",
              "\n",
              "    .colab-df-convert {\n",
              "      background-color: #E8F0FE;\n",
              "      border: none;\n",
              "      border-radius: 50%;\n",
              "      cursor: pointer;\n",
              "      display: none;\n",
              "      fill: #1967D2;\n",
              "      height: 32px;\n",
              "      padding: 0 0 0 0;\n",
              "      width: 32px;\n",
              "    }\n",
              "\n",
              "    .colab-df-convert:hover {\n",
              "      background-color: #E2EBFA;\n",
              "      box-shadow: 0px 1px 2px rgba(60, 64, 67, 0.3), 0px 1px 3px 1px rgba(60, 64, 67, 0.15);\n",
              "      fill: #174EA6;\n",
              "    }\n",
              "\n",
              "    [theme=dark] .colab-df-convert {\n",
              "      background-color: #3B4455;\n",
              "      fill: #D2E3FC;\n",
              "    }\n",
              "\n",
              "    [theme=dark] .colab-df-convert:hover {\n",
              "      background-color: #434B5C;\n",
              "      box-shadow: 0px 1px 3px 1px rgba(0, 0, 0, 0.15);\n",
              "      filter: drop-shadow(0px 1px 2px rgba(0, 0, 0, 0.3));\n",
              "      fill: #FFFFFF;\n",
              "    }\n",
              "  </style>\n",
              "\n",
              "      <script>\n",
              "        const buttonEl =\n",
              "          document.querySelector('#df-697b6718-f583-4bdc-a568-36c2e4fb7890 button.colab-df-convert');\n",
              "        buttonEl.style.display =\n",
              "          google.colab.kernel.accessAllowed ? 'block' : 'none';\n",
              "\n",
              "        async function convertToInteractive(key) {\n",
              "          const element = document.querySelector('#df-697b6718-f583-4bdc-a568-36c2e4fb7890');\n",
              "          const dataTable =\n",
              "            await google.colab.kernel.invokeFunction('convertToInteractive',\n",
              "                                                     [key], {});\n",
              "          if (!dataTable) return;\n",
              "\n",
              "          const docLinkHtml = 'Like what you see? Visit the ' +\n",
              "            '<a target=\"_blank\" href=https://colab.research.google.com/notebooks/data_table.ipynb>data table notebook</a>'\n",
              "            + ' to learn more about interactive tables.';\n",
              "          element.innerHTML = '';\n",
              "          dataTable['output_type'] = 'display_data';\n",
              "          await google.colab.output.renderOutput(dataTable, element);\n",
              "          const docLink = document.createElement('div');\n",
              "          docLink.innerHTML = docLinkHtml;\n",
              "          element.appendChild(docLink);\n",
              "        }\n",
              "      </script>\n",
              "    </div>\n",
              "  </div>\n",
              "  "
            ],
            "text/plain": [
              "     Unnamed: 0          filename  pollen_carrying\n",
              "0             0   P10057-125r.jpg                1\n",
              "1             1   P57380-120r.jpg                1\n",
              "2             2  NP63671-221r.jpg                0\n",
              "3             3   NP53776-47r.jpg                0\n",
              "4             4  NP13382-201r.jpg                0\n",
              "..          ...               ...              ...\n",
              "709         709  NP64239-233r.jpg                0\n",
              "710         710  NP10304-132r.jpg                0\n",
              "711         711  NP28671-238r.jpg                0\n",
              "712         712   P14163-218r.jpg                1\n",
              "713         713    NP1768-11r.jpg                0\n",
              "\n",
              "[714 rows x 3 columns]"
            ]
          },
          "metadata": {},
          "execution_count": 8
        }
      ]
    },
    {
      "cell_type": "code",
      "metadata": {
        "id": "Ik_Kf8wqTNeG",
        "outputId": "c198a52e-52fe-49c1-fe5b-f46b892d3462",
        "colab": {
          "base_uri": "https://localhost:8080/"
        }
      },
      "source": [
        "df['pollen_carrying'].value_counts()"
      ],
      "execution_count": 9,
      "outputs": [
        {
          "output_type": "execute_result",
          "data": {
            "text/plain": [
              "1    369\n",
              "0    345\n",
              "Name: pollen_carrying, dtype: int64"
            ]
          },
          "metadata": {},
          "execution_count": 9
        }
      ]
    },
    {
      "cell_type": "code",
      "metadata": {
        "id": "45pz0ZiaTNeH"
      },
      "source": [
        "import random "
      ],
      "execution_count": 10,
      "outputs": []
    },
    {
      "cell_type": "code",
      "metadata": {
        "id": "od3gxZLFTNeI"
      },
      "source": [
        "random.seed(69420)"
      ],
      "execution_count": 11,
      "outputs": []
    },
    {
      "cell_type": "code",
      "metadata": {
        "id": "SjYd7s63TNeL",
        "outputId": "0d2e1a4a-ab34-4ac0-e7a1-c69296c0bb37",
        "colab": {
          "base_uri": "https://localhost:8080/",
          "height": 424
        }
      },
      "source": [
        "df['subset'] = random.choices([0,1,2],[0.8,0.1,0.1],k = len(df))\n",
        "df"
      ],
      "execution_count": 12,
      "outputs": [
        {
          "output_type": "execute_result",
          "data": {
            "text/html": [
              "\n",
              "  <div id=\"df-ff3e1f95-c198-4302-a494-b63afb116920\">\n",
              "    <div class=\"colab-df-container\">\n",
              "      <div>\n",
              "<style scoped>\n",
              "    .dataframe tbody tr th:only-of-type {\n",
              "        vertical-align: middle;\n",
              "    }\n",
              "\n",
              "    .dataframe tbody tr th {\n",
              "        vertical-align: top;\n",
              "    }\n",
              "\n",
              "    .dataframe thead th {\n",
              "        text-align: right;\n",
              "    }\n",
              "</style>\n",
              "<table border=\"1\" class=\"dataframe\">\n",
              "  <thead>\n",
              "    <tr style=\"text-align: right;\">\n",
              "      <th></th>\n",
              "      <th>Unnamed: 0</th>\n",
              "      <th>filename</th>\n",
              "      <th>pollen_carrying</th>\n",
              "      <th>subset</th>\n",
              "    </tr>\n",
              "  </thead>\n",
              "  <tbody>\n",
              "    <tr>\n",
              "      <th>0</th>\n",
              "      <td>0</td>\n",
              "      <td>P10057-125r.jpg</td>\n",
              "      <td>1</td>\n",
              "      <td>0</td>\n",
              "    </tr>\n",
              "    <tr>\n",
              "      <th>1</th>\n",
              "      <td>1</td>\n",
              "      <td>P57380-120r.jpg</td>\n",
              "      <td>1</td>\n",
              "      <td>0</td>\n",
              "    </tr>\n",
              "    <tr>\n",
              "      <th>2</th>\n",
              "      <td>2</td>\n",
              "      <td>NP63671-221r.jpg</td>\n",
              "      <td>0</td>\n",
              "      <td>0</td>\n",
              "    </tr>\n",
              "    <tr>\n",
              "      <th>3</th>\n",
              "      <td>3</td>\n",
              "      <td>NP53776-47r.jpg</td>\n",
              "      <td>0</td>\n",
              "      <td>1</td>\n",
              "    </tr>\n",
              "    <tr>\n",
              "      <th>4</th>\n",
              "      <td>4</td>\n",
              "      <td>NP13382-201r.jpg</td>\n",
              "      <td>0</td>\n",
              "      <td>0</td>\n",
              "    </tr>\n",
              "    <tr>\n",
              "      <th>...</th>\n",
              "      <td>...</td>\n",
              "      <td>...</td>\n",
              "      <td>...</td>\n",
              "      <td>...</td>\n",
              "    </tr>\n",
              "    <tr>\n",
              "      <th>709</th>\n",
              "      <td>709</td>\n",
              "      <td>NP64239-233r.jpg</td>\n",
              "      <td>0</td>\n",
              "      <td>0</td>\n",
              "    </tr>\n",
              "    <tr>\n",
              "      <th>710</th>\n",
              "      <td>710</td>\n",
              "      <td>NP10304-132r.jpg</td>\n",
              "      <td>0</td>\n",
              "      <td>0</td>\n",
              "    </tr>\n",
              "    <tr>\n",
              "      <th>711</th>\n",
              "      <td>711</td>\n",
              "      <td>NP28671-238r.jpg</td>\n",
              "      <td>0</td>\n",
              "      <td>0</td>\n",
              "    </tr>\n",
              "    <tr>\n",
              "      <th>712</th>\n",
              "      <td>712</td>\n",
              "      <td>P14163-218r.jpg</td>\n",
              "      <td>1</td>\n",
              "      <td>2</td>\n",
              "    </tr>\n",
              "    <tr>\n",
              "      <th>713</th>\n",
              "      <td>713</td>\n",
              "      <td>NP1768-11r.jpg</td>\n",
              "      <td>0</td>\n",
              "      <td>0</td>\n",
              "    </tr>\n",
              "  </tbody>\n",
              "</table>\n",
              "<p>714 rows × 4 columns</p>\n",
              "</div>\n",
              "      <button class=\"colab-df-convert\" onclick=\"convertToInteractive('df-ff3e1f95-c198-4302-a494-b63afb116920')\"\n",
              "              title=\"Convert this dataframe to an interactive table.\"\n",
              "              style=\"display:none;\">\n",
              "        \n",
              "  <svg xmlns=\"http://www.w3.org/2000/svg\" height=\"24px\"viewBox=\"0 0 24 24\"\n",
              "       width=\"24px\">\n",
              "    <path d=\"M0 0h24v24H0V0z\" fill=\"none\"/>\n",
              "    <path d=\"M18.56 5.44l.94 2.06.94-2.06 2.06-.94-2.06-.94-.94-2.06-.94 2.06-2.06.94zm-11 1L8.5 8.5l.94-2.06 2.06-.94-2.06-.94L8.5 2.5l-.94 2.06-2.06.94zm10 10l.94 2.06.94-2.06 2.06-.94-2.06-.94-.94-2.06-.94 2.06-2.06.94z\"/><path d=\"M17.41 7.96l-1.37-1.37c-.4-.4-.92-.59-1.43-.59-.52 0-1.04.2-1.43.59L10.3 9.45l-7.72 7.72c-.78.78-.78 2.05 0 2.83L4 21.41c.39.39.9.59 1.41.59.51 0 1.02-.2 1.41-.59l7.78-7.78 2.81-2.81c.8-.78.8-2.07 0-2.86zM5.41 20L4 18.59l7.72-7.72 1.47 1.35L5.41 20z\"/>\n",
              "  </svg>\n",
              "      </button>\n",
              "      \n",
              "  <style>\n",
              "    .colab-df-container {\n",
              "      display:flex;\n",
              "      flex-wrap:wrap;\n",
              "      gap: 12px;\n",
              "    }\n",
              "\n",
              "    .colab-df-convert {\n",
              "      background-color: #E8F0FE;\n",
              "      border: none;\n",
              "      border-radius: 50%;\n",
              "      cursor: pointer;\n",
              "      display: none;\n",
              "      fill: #1967D2;\n",
              "      height: 32px;\n",
              "      padding: 0 0 0 0;\n",
              "      width: 32px;\n",
              "    }\n",
              "\n",
              "    .colab-df-convert:hover {\n",
              "      background-color: #E2EBFA;\n",
              "      box-shadow: 0px 1px 2px rgba(60, 64, 67, 0.3), 0px 1px 3px 1px rgba(60, 64, 67, 0.15);\n",
              "      fill: #174EA6;\n",
              "    }\n",
              "\n",
              "    [theme=dark] .colab-df-convert {\n",
              "      background-color: #3B4455;\n",
              "      fill: #D2E3FC;\n",
              "    }\n",
              "\n",
              "    [theme=dark] .colab-df-convert:hover {\n",
              "      background-color: #434B5C;\n",
              "      box-shadow: 0px 1px 3px 1px rgba(0, 0, 0, 0.15);\n",
              "      filter: drop-shadow(0px 1px 2px rgba(0, 0, 0, 0.3));\n",
              "      fill: #FFFFFF;\n",
              "    }\n",
              "  </style>\n",
              "\n",
              "      <script>\n",
              "        const buttonEl =\n",
              "          document.querySelector('#df-ff3e1f95-c198-4302-a494-b63afb116920 button.colab-df-convert');\n",
              "        buttonEl.style.display =\n",
              "          google.colab.kernel.accessAllowed ? 'block' : 'none';\n",
              "\n",
              "        async function convertToInteractive(key) {\n",
              "          const element = document.querySelector('#df-ff3e1f95-c198-4302-a494-b63afb116920');\n",
              "          const dataTable =\n",
              "            await google.colab.kernel.invokeFunction('convertToInteractive',\n",
              "                                                     [key], {});\n",
              "          if (!dataTable) return;\n",
              "\n",
              "          const docLinkHtml = 'Like what you see? Visit the ' +\n",
              "            '<a target=\"_blank\" href=https://colab.research.google.com/notebooks/data_table.ipynb>data table notebook</a>'\n",
              "            + ' to learn more about interactive tables.';\n",
              "          element.innerHTML = '';\n",
              "          dataTable['output_type'] = 'display_data';\n",
              "          await google.colab.output.renderOutput(dataTable, element);\n",
              "          const docLink = document.createElement('div');\n",
              "          docLink.innerHTML = docLinkHtml;\n",
              "          element.appendChild(docLink);\n",
              "        }\n",
              "      </script>\n",
              "    </div>\n",
              "  </div>\n",
              "  "
            ],
            "text/plain": [
              "     Unnamed: 0          filename  pollen_carrying  subset\n",
              "0             0   P10057-125r.jpg                1       0\n",
              "1             1   P57380-120r.jpg                1       0\n",
              "2             2  NP63671-221r.jpg                0       0\n",
              "3             3   NP53776-47r.jpg                0       1\n",
              "4             4  NP13382-201r.jpg                0       0\n",
              "..          ...               ...              ...     ...\n",
              "709         709  NP64239-233r.jpg                0       0\n",
              "710         710  NP10304-132r.jpg                0       0\n",
              "711         711  NP28671-238r.jpg                0       0\n",
              "712         712   P14163-218r.jpg                1       2\n",
              "713         713    NP1768-11r.jpg                0       0\n",
              "\n",
              "[714 rows x 4 columns]"
            ]
          },
          "metadata": {},
          "execution_count": 12
        }
      ]
    },
    {
      "cell_type": "code",
      "source": [
        "import cv2"
      ],
      "metadata": {
        "id": "i8RXjlInevBZ"
      },
      "execution_count": 14,
      "outputs": []
    },
    {
      "cell_type": "code",
      "metadata": {
        "id": "zEp48T7iTNeM",
        "outputId": "a0235ffc-dc42-45ae-c655-e0a915b7980b",
        "colab": {
          "base_uri": "https://localhost:8080/"
        }
      },
      "source": [
        "x = []\n",
        "y = []\n",
        "for i,a in tqdm(df.iterrows()):\n",
        "    x.append(cv2.resize(cv2.imread('images/'+a.filename),(64,64))/255)\n",
        "df['x'] = x"
      ],
      "execution_count": 15,
      "outputs": [
        {
          "output_type": "stream",
          "name": "stderr",
          "text": [
            "714it [08:06,  1.47it/s]\n"
          ]
        }
      ]
    },
    {
      "cell_type": "code",
      "metadata": {
        "id": "RYScyFX3TNeN",
        "outputId": "2daca5e0-0a64-416e-d350-ce7371cbb335",
        "colab": {
          "base_uri": "https://localhost:8080/",
          "height": 424
        }
      },
      "source": [
        "df"
      ],
      "execution_count": 16,
      "outputs": [
        {
          "output_type": "execute_result",
          "data": {
            "text/html": [
              "\n",
              "  <div id=\"df-dc40c271-6c03-4d5a-b30a-43070e60f91b\">\n",
              "    <div class=\"colab-df-container\">\n",
              "      <div>\n",
              "<style scoped>\n",
              "    .dataframe tbody tr th:only-of-type {\n",
              "        vertical-align: middle;\n",
              "    }\n",
              "\n",
              "    .dataframe tbody tr th {\n",
              "        vertical-align: top;\n",
              "    }\n",
              "\n",
              "    .dataframe thead th {\n",
              "        text-align: right;\n",
              "    }\n",
              "</style>\n",
              "<table border=\"1\" class=\"dataframe\">\n",
              "  <thead>\n",
              "    <tr style=\"text-align: right;\">\n",
              "      <th></th>\n",
              "      <th>Unnamed: 0</th>\n",
              "      <th>filename</th>\n",
              "      <th>pollen_carrying</th>\n",
              "      <th>subset</th>\n",
              "      <th>x</th>\n",
              "    </tr>\n",
              "  </thead>\n",
              "  <tbody>\n",
              "    <tr>\n",
              "      <th>0</th>\n",
              "      <td>0</td>\n",
              "      <td>P10057-125r.jpg</td>\n",
              "      <td>1</td>\n",
              "      <td>0</td>\n",
              "      <td>[[[0.6549019607843137, 0.5215686274509804, 0.2...</td>\n",
              "    </tr>\n",
              "    <tr>\n",
              "      <th>1</th>\n",
              "      <td>1</td>\n",
              "      <td>P57380-120r.jpg</td>\n",
              "      <td>1</td>\n",
              "      <td>0</td>\n",
              "      <td>[[[0.6039215686274509, 0.47058823529411764, 0....</td>\n",
              "    </tr>\n",
              "    <tr>\n",
              "      <th>2</th>\n",
              "      <td>2</td>\n",
              "      <td>NP63671-221r.jpg</td>\n",
              "      <td>0</td>\n",
              "      <td>0</td>\n",
              "      <td>[[[0.596078431372549, 0.4549019607843137, 0.21...</td>\n",
              "    </tr>\n",
              "    <tr>\n",
              "      <th>3</th>\n",
              "      <td>3</td>\n",
              "      <td>NP53776-47r.jpg</td>\n",
              "      <td>0</td>\n",
              "      <td>1</td>\n",
              "      <td>[[[0.5568627450980392, 0.43137254901960786, 0....</td>\n",
              "    </tr>\n",
              "    <tr>\n",
              "      <th>4</th>\n",
              "      <td>4</td>\n",
              "      <td>NP13382-201r.jpg</td>\n",
              "      <td>0</td>\n",
              "      <td>0</td>\n",
              "      <td>[[[0.5058823529411764, 0.4, 0.1764705882352941...</td>\n",
              "    </tr>\n",
              "    <tr>\n",
              "      <th>...</th>\n",
              "      <td>...</td>\n",
              "      <td>...</td>\n",
              "      <td>...</td>\n",
              "      <td>...</td>\n",
              "      <td>...</td>\n",
              "    </tr>\n",
              "    <tr>\n",
              "      <th>709</th>\n",
              "      <td>709</td>\n",
              "      <td>NP64239-233r.jpg</td>\n",
              "      <td>0</td>\n",
              "      <td>0</td>\n",
              "      <td>[[[0.5490196078431373, 0.43529411764705883, 0....</td>\n",
              "    </tr>\n",
              "    <tr>\n",
              "      <th>710</th>\n",
              "      <td>710</td>\n",
              "      <td>NP10304-132r.jpg</td>\n",
              "      <td>0</td>\n",
              "      <td>0</td>\n",
              "      <td>[[[0.6313725490196078, 0.5176470588235295, 0.2...</td>\n",
              "    </tr>\n",
              "    <tr>\n",
              "      <th>711</th>\n",
              "      <td>711</td>\n",
              "      <td>NP28671-238r.jpg</td>\n",
              "      <td>0</td>\n",
              "      <td>0</td>\n",
              "      <td>[[[0.4745098039215686, 0.34509803921568627, 0....</td>\n",
              "    </tr>\n",
              "    <tr>\n",
              "      <th>712</th>\n",
              "      <td>712</td>\n",
              "      <td>P14163-218r.jpg</td>\n",
              "      <td>1</td>\n",
              "      <td>2</td>\n",
              "      <td>[[[0.6274509803921569, 0.4980392156862745, 0.2...</td>\n",
              "    </tr>\n",
              "    <tr>\n",
              "      <th>713</th>\n",
              "      <td>713</td>\n",
              "      <td>NP1768-11r.jpg</td>\n",
              "      <td>0</td>\n",
              "      <td>0</td>\n",
              "      <td>[[[0.6313725490196078, 0.4980392156862745, 0.2...</td>\n",
              "    </tr>\n",
              "  </tbody>\n",
              "</table>\n",
              "<p>714 rows × 5 columns</p>\n",
              "</div>\n",
              "      <button class=\"colab-df-convert\" onclick=\"convertToInteractive('df-dc40c271-6c03-4d5a-b30a-43070e60f91b')\"\n",
              "              title=\"Convert this dataframe to an interactive table.\"\n",
              "              style=\"display:none;\">\n",
              "        \n",
              "  <svg xmlns=\"http://www.w3.org/2000/svg\" height=\"24px\"viewBox=\"0 0 24 24\"\n",
              "       width=\"24px\">\n",
              "    <path d=\"M0 0h24v24H0V0z\" fill=\"none\"/>\n",
              "    <path d=\"M18.56 5.44l.94 2.06.94-2.06 2.06-.94-2.06-.94-.94-2.06-.94 2.06-2.06.94zm-11 1L8.5 8.5l.94-2.06 2.06-.94-2.06-.94L8.5 2.5l-.94 2.06-2.06.94zm10 10l.94 2.06.94-2.06 2.06-.94-2.06-.94-.94-2.06-.94 2.06-2.06.94z\"/><path d=\"M17.41 7.96l-1.37-1.37c-.4-.4-.92-.59-1.43-.59-.52 0-1.04.2-1.43.59L10.3 9.45l-7.72 7.72c-.78.78-.78 2.05 0 2.83L4 21.41c.39.39.9.59 1.41.59.51 0 1.02-.2 1.41-.59l7.78-7.78 2.81-2.81c.8-.78.8-2.07 0-2.86zM5.41 20L4 18.59l7.72-7.72 1.47 1.35L5.41 20z\"/>\n",
              "  </svg>\n",
              "      </button>\n",
              "      \n",
              "  <style>\n",
              "    .colab-df-container {\n",
              "      display:flex;\n",
              "      flex-wrap:wrap;\n",
              "      gap: 12px;\n",
              "    }\n",
              "\n",
              "    .colab-df-convert {\n",
              "      background-color: #E8F0FE;\n",
              "      border: none;\n",
              "      border-radius: 50%;\n",
              "      cursor: pointer;\n",
              "      display: none;\n",
              "      fill: #1967D2;\n",
              "      height: 32px;\n",
              "      padding: 0 0 0 0;\n",
              "      width: 32px;\n",
              "    }\n",
              "\n",
              "    .colab-df-convert:hover {\n",
              "      background-color: #E2EBFA;\n",
              "      box-shadow: 0px 1px 2px rgba(60, 64, 67, 0.3), 0px 1px 3px 1px rgba(60, 64, 67, 0.15);\n",
              "      fill: #174EA6;\n",
              "    }\n",
              "\n",
              "    [theme=dark] .colab-df-convert {\n",
              "      background-color: #3B4455;\n",
              "      fill: #D2E3FC;\n",
              "    }\n",
              "\n",
              "    [theme=dark] .colab-df-convert:hover {\n",
              "      background-color: #434B5C;\n",
              "      box-shadow: 0px 1px 3px 1px rgba(0, 0, 0, 0.15);\n",
              "      filter: drop-shadow(0px 1px 2px rgba(0, 0, 0, 0.3));\n",
              "      fill: #FFFFFF;\n",
              "    }\n",
              "  </style>\n",
              "\n",
              "      <script>\n",
              "        const buttonEl =\n",
              "          document.querySelector('#df-dc40c271-6c03-4d5a-b30a-43070e60f91b button.colab-df-convert');\n",
              "        buttonEl.style.display =\n",
              "          google.colab.kernel.accessAllowed ? 'block' : 'none';\n",
              "\n",
              "        async function convertToInteractive(key) {\n",
              "          const element = document.querySelector('#df-dc40c271-6c03-4d5a-b30a-43070e60f91b');\n",
              "          const dataTable =\n",
              "            await google.colab.kernel.invokeFunction('convertToInteractive',\n",
              "                                                     [key], {});\n",
              "          if (!dataTable) return;\n",
              "\n",
              "          const docLinkHtml = 'Like what you see? Visit the ' +\n",
              "            '<a target=\"_blank\" href=https://colab.research.google.com/notebooks/data_table.ipynb>data table notebook</a>'\n",
              "            + ' to learn more about interactive tables.';\n",
              "          element.innerHTML = '';\n",
              "          dataTable['output_type'] = 'display_data';\n",
              "          await google.colab.output.renderOutput(dataTable, element);\n",
              "          const docLink = document.createElement('div');\n",
              "          docLink.innerHTML = docLinkHtml;\n",
              "          element.appendChild(docLink);\n",
              "        }\n",
              "      </script>\n",
              "    </div>\n",
              "  </div>\n",
              "  "
            ],
            "text/plain": [
              "     Unnamed: 0  ...                                                  x\n",
              "0             0  ...  [[[0.6549019607843137, 0.5215686274509804, 0.2...\n",
              "1             1  ...  [[[0.6039215686274509, 0.47058823529411764, 0....\n",
              "2             2  ...  [[[0.596078431372549, 0.4549019607843137, 0.21...\n",
              "3             3  ...  [[[0.5568627450980392, 0.43137254901960786, 0....\n",
              "4             4  ...  [[[0.5058823529411764, 0.4, 0.1764705882352941...\n",
              "..          ...  ...                                                ...\n",
              "709         709  ...  [[[0.5490196078431373, 0.43529411764705883, 0....\n",
              "710         710  ...  [[[0.6313725490196078, 0.5176470588235295, 0.2...\n",
              "711         711  ...  [[[0.4745098039215686, 0.34509803921568627, 0....\n",
              "712         712  ...  [[[0.6274509803921569, 0.4980392156862745, 0.2...\n",
              "713         713  ...  [[[0.6313725490196078, 0.4980392156862745, 0.2...\n",
              "\n",
              "[714 rows x 5 columns]"
            ]
          },
          "metadata": {},
          "execution_count": 16
        }
      ]
    },
    {
      "cell_type": "code",
      "metadata": {
        "id": "KK5tpFuYTNeP"
      },
      "source": [
        "def gene(df,batch):\n",
        "    while 1:\n",
        "        x = []\n",
        "        y = []\n",
        "        sub = df.groupby('pollen_carrying').sample(int(batch/2))\n",
        "        for i,a in sub.iterrows():\n",
        "            x.append(a.x)\n",
        "            y.append(a.pollen_carrying)\n",
        "        yield np.array(x),np.array(y) "
      ],
      "execution_count": 17,
      "outputs": []
    },
    {
      "cell_type": "code",
      "metadata": {
        "id": "b1euvihkTNeQ"
      },
      "source": [
        "x,y = next(gene(df,18))"
      ],
      "execution_count": 18,
      "outputs": []
    },
    {
      "cell_type": "code",
      "metadata": {
        "id": "oM7P6vBjTNeQ",
        "outputId": "6402471a-0bfa-411c-b49b-f81f39a78b61",
        "colab": {
          "base_uri": "https://localhost:8080/"
        }
      },
      "source": [
        "y"
      ],
      "execution_count": 19,
      "outputs": [
        {
          "output_type": "execute_result",
          "data": {
            "text/plain": [
              "array([0, 0, 0, 0, 0, 0, 0, 0, 0, 1, 1, 1, 1, 1, 1, 1, 1, 1])"
            ]
          },
          "metadata": {},
          "execution_count": 19
        }
      ]
    },
    {
      "cell_type": "code",
      "metadata": {
        "id": "vlbfMazeTNeQ"
      },
      "source": [
        "from tensorflow.keras import layers"
      ],
      "execution_count": 20,
      "outputs": []
    },
    {
      "cell_type": "code",
      "metadata": {
        "id": "hws4W_xYTNeR"
      },
      "source": [
        "inputs = layers.Input(shape=(64,64,3))\n",
        "x = tf.keras.layers.Conv2D(32,(3,3),padding=\"same\")(inputs)\n",
        "x = tf.keras.layers.BatchNormalization()(x)\n",
        "x = tf.keras.layers.Activation(tf.keras.activations.relu)(x)\n",
        "x = layers.Flatten()(x)\n",
        "x = layers.Dropout(0.1)(x)\n",
        "x = layers.Dense(32,activation='relu')(x)\n",
        "x = layers.Dense(1,activation='sigmoid')(x)\n",
        "model = tf.keras.Model(inputs=inputs, outputs=x)\n",
        "model.compile(loss=\"binary_crossentropy\", optimizer=tf.keras.optimizers.Adam(\n",
        "    learning_rate=0.0001), metrics=[\"accuracy\"])"
      ],
      "execution_count": 21,
      "outputs": []
    },
    {
      "cell_type": "code",
      "source": [
        "test = model.fit(gene(df[df.subset == 0],90),epochs=70\n",
        "                ,validation_data=(gene(df[df.subset == 1],45))\n",
        "                ,steps_per_epoch=10\n",
        "                ,validation_steps=10)"
      ],
      "metadata": {
        "id": "6V0L4hVmhv7p",
        "outputId": "f17c8c28-ea45-446f-ba39-247a58609cd9",
        "colab": {
          "base_uri": "https://localhost:8080/"
        }
      },
      "execution_count": 25,
      "outputs": [
        {
          "output_type": "stream",
          "name": "stdout",
          "text": [
            "Epoch 1/70\n",
            "10/10 [==============================] - 6s 606ms/step - loss: 0.0305 - accuracy: 1.0000 - val_loss: 0.4239 - val_accuracy: 0.8795\n",
            "Epoch 2/70\n",
            "10/10 [==============================] - 6s 596ms/step - loss: 0.0253 - accuracy: 1.0000 - val_loss: 0.4090 - val_accuracy: 0.8659\n",
            "Epoch 3/70\n",
            "10/10 [==============================] - 6s 592ms/step - loss: 0.0240 - accuracy: 1.0000 - val_loss: 0.4127 - val_accuracy: 0.8545\n",
            "Epoch 4/70\n",
            "10/10 [==============================] - 6s 588ms/step - loss: 0.0195 - accuracy: 1.0000 - val_loss: 0.3955 - val_accuracy: 0.8841\n",
            "Epoch 5/70\n",
            "10/10 [==============================] - 6s 600ms/step - loss: 0.0192 - accuracy: 1.0000 - val_loss: 0.3753 - val_accuracy: 0.9023\n",
            "Epoch 6/70\n",
            "10/10 [==============================] - 6s 609ms/step - loss: 0.0181 - accuracy: 1.0000 - val_loss: 0.3690 - val_accuracy: 0.8841\n",
            "Epoch 7/70\n",
            "10/10 [==============================] - 6s 587ms/step - loss: 0.0174 - accuracy: 1.0000 - val_loss: 0.3428 - val_accuracy: 0.8773\n",
            "Epoch 8/70\n",
            "10/10 [==============================] - 6s 594ms/step - loss: 0.0146 - accuracy: 1.0000 - val_loss: 0.3366 - val_accuracy: 0.9091\n",
            "Epoch 9/70\n",
            "10/10 [==============================] - 6s 587ms/step - loss: 0.0157 - accuracy: 1.0000 - val_loss: 0.3447 - val_accuracy: 0.8682\n",
            "Epoch 10/70\n",
            "10/10 [==============================] - 6s 581ms/step - loss: 0.0140 - accuracy: 1.0000 - val_loss: 0.3250 - val_accuracy: 0.8795\n",
            "Epoch 11/70\n",
            "10/10 [==============================] - 6s 582ms/step - loss: 0.0118 - accuracy: 1.0000 - val_loss: 0.3215 - val_accuracy: 0.8773\n",
            "Epoch 12/70\n",
            "10/10 [==============================] - 6s 577ms/step - loss: 0.0124 - accuracy: 1.0000 - val_loss: 0.3214 - val_accuracy: 0.8727\n",
            "Epoch 13/70\n",
            "10/10 [==============================] - 6s 597ms/step - loss: 0.0122 - accuracy: 1.0000 - val_loss: 0.3224 - val_accuracy: 0.8614\n",
            "Epoch 14/70\n",
            "10/10 [==============================] - 6s 579ms/step - loss: 0.0110 - accuracy: 1.0000 - val_loss: 0.3112 - val_accuracy: 0.8705\n",
            "Epoch 15/70\n",
            "10/10 [==============================] - 6s 591ms/step - loss: 0.0111 - accuracy: 1.0000 - val_loss: 0.3090 - val_accuracy: 0.8932\n",
            "Epoch 16/70\n",
            "10/10 [==============================] - 6s 601ms/step - loss: 0.0096 - accuracy: 1.0000 - val_loss: 0.2742 - val_accuracy: 0.8818\n",
            "Epoch 17/70\n",
            "10/10 [==============================] - 6s 591ms/step - loss: 0.0099 - accuracy: 1.0000 - val_loss: 0.2935 - val_accuracy: 0.8591\n",
            "Epoch 18/70\n",
            "10/10 [==============================] - 6s 588ms/step - loss: 0.0086 - accuracy: 1.0000 - val_loss: 0.3070 - val_accuracy: 0.8614\n",
            "Epoch 19/70\n",
            "10/10 [==============================] - 6s 601ms/step - loss: 0.0088 - accuracy: 1.0000 - val_loss: 0.2724 - val_accuracy: 0.8455\n",
            "Epoch 20/70\n",
            "10/10 [==============================] - 6s 595ms/step - loss: 0.0078 - accuracy: 1.0000 - val_loss: 0.2883 - val_accuracy: 0.8955\n",
            "Epoch 21/70\n",
            "10/10 [==============================] - 6s 605ms/step - loss: 0.0077 - accuracy: 1.0000 - val_loss: 0.2749 - val_accuracy: 0.8500\n",
            "Epoch 22/70\n",
            "10/10 [==============================] - 6s 589ms/step - loss: 0.0091 - accuracy: 1.0000 - val_loss: 0.2703 - val_accuracy: 0.8795\n",
            "Epoch 23/70\n",
            "10/10 [==============================] - 6s 588ms/step - loss: 0.0072 - accuracy: 1.0000 - val_loss: 0.2793 - val_accuracy: 0.8750\n",
            "Epoch 24/70\n",
            "10/10 [==============================] - 6s 593ms/step - loss: 0.0073 - accuracy: 1.0000 - val_loss: 0.2751 - val_accuracy: 0.8955\n",
            "Epoch 25/70\n",
            "10/10 [==============================] - 6s 592ms/step - loss: 0.0062 - accuracy: 1.0000 - val_loss: 0.2645 - val_accuracy: 0.8727\n",
            "Epoch 26/70\n",
            "10/10 [==============================] - 6s 606ms/step - loss: 0.0065 - accuracy: 1.0000 - val_loss: 0.2732 - val_accuracy: 0.8682\n",
            "Epoch 27/70\n",
            "10/10 [==============================] - 6s 589ms/step - loss: 0.0060 - accuracy: 1.0000 - val_loss: 0.2584 - val_accuracy: 0.8773\n",
            "Epoch 28/70\n",
            "10/10 [==============================] - 6s 573ms/step - loss: 0.0059 - accuracy: 1.0000 - val_loss: 0.2900 - val_accuracy: 0.8682\n",
            "Epoch 29/70\n",
            "10/10 [==============================] - 6s 574ms/step - loss: 0.0059 - accuracy: 1.0000 - val_loss: 0.2462 - val_accuracy: 0.8705\n",
            "Epoch 30/70\n",
            "10/10 [==============================] - 6s 574ms/step - loss: 0.0053 - accuracy: 1.0000 - val_loss: 0.2922 - val_accuracy: 0.8591\n",
            "Epoch 31/70\n",
            "10/10 [==============================] - 6s 581ms/step - loss: 0.0049 - accuracy: 1.0000 - val_loss: 0.2831 - val_accuracy: 0.8659\n",
            "Epoch 32/70\n",
            "10/10 [==============================] - 6s 587ms/step - loss: 0.0050 - accuracy: 1.0000 - val_loss: 0.2705 - val_accuracy: 0.8727\n",
            "Epoch 33/70\n",
            "10/10 [==============================] - 6s 575ms/step - loss: 0.0044 - accuracy: 1.0000 - val_loss: 0.2773 - val_accuracy: 0.8727\n",
            "Epoch 34/70\n",
            "10/10 [==============================] - 6s 582ms/step - loss: 0.0052 - accuracy: 1.0000 - val_loss: 0.3092 - val_accuracy: 0.8659\n",
            "Epoch 35/70\n",
            "10/10 [==============================] - 6s 577ms/step - loss: 0.0050 - accuracy: 1.0000 - val_loss: 0.2742 - val_accuracy: 0.8864\n",
            "Epoch 36/70\n",
            "10/10 [==============================] - 6s 589ms/step - loss: 0.0044 - accuracy: 1.0000 - val_loss: 0.2801 - val_accuracy: 0.8727\n",
            "Epoch 37/70\n",
            "10/10 [==============================] - 6s 601ms/step - loss: 0.0041 - accuracy: 1.0000 - val_loss: 0.2490 - val_accuracy: 0.8750\n",
            "Epoch 38/70\n",
            "10/10 [==============================] - 6s 586ms/step - loss: 0.0040 - accuracy: 1.0000 - val_loss: 0.3185 - val_accuracy: 0.8682\n",
            "Epoch 39/70\n",
            "10/10 [==============================] - 6s 588ms/step - loss: 0.0040 - accuracy: 1.0000 - val_loss: 0.2816 - val_accuracy: 0.8795\n",
            "Epoch 40/70\n",
            "10/10 [==============================] - 6s 581ms/step - loss: 0.0042 - accuracy: 1.0000 - val_loss: 0.3095 - val_accuracy: 0.8432\n",
            "Epoch 41/70\n",
            "10/10 [==============================] - 6s 585ms/step - loss: 0.0039 - accuracy: 1.0000 - val_loss: 0.2698 - val_accuracy: 0.8932\n",
            "Epoch 42/70\n",
            "10/10 [==============================] - 6s 598ms/step - loss: 0.0037 - accuracy: 1.0000 - val_loss: 0.2893 - val_accuracy: 0.8909\n",
            "Epoch 43/70\n",
            "10/10 [==============================] - 6s 595ms/step - loss: 0.0041 - accuracy: 1.0000 - val_loss: 0.3200 - val_accuracy: 0.8818\n",
            "Epoch 44/70\n",
            "10/10 [==============================] - 6s 571ms/step - loss: 0.0035 - accuracy: 1.0000 - val_loss: 0.3474 - val_accuracy: 0.8432\n",
            "Epoch 45/70\n",
            "10/10 [==============================] - 6s 568ms/step - loss: 0.0036 - accuracy: 1.0000 - val_loss: 0.3220 - val_accuracy: 0.8705\n",
            "Epoch 46/70\n",
            "10/10 [==============================] - 6s 576ms/step - loss: 0.0032 - accuracy: 1.0000 - val_loss: 0.2851 - val_accuracy: 0.8795\n",
            "Epoch 47/70\n",
            "10/10 [==============================] - 6s 595ms/step - loss: 0.0031 - accuracy: 1.0000 - val_loss: 0.3290 - val_accuracy: 0.8614\n",
            "Epoch 48/70\n",
            "10/10 [==============================] - 6s 592ms/step - loss: 0.0033 - accuracy: 1.0000 - val_loss: 0.3575 - val_accuracy: 0.8636\n",
            "Epoch 49/70\n",
            "10/10 [==============================] - 6s 578ms/step - loss: 0.0032 - accuracy: 1.0000 - val_loss: 0.3066 - val_accuracy: 0.8818\n",
            "Epoch 50/70\n",
            "10/10 [==============================] - 6s 575ms/step - loss: 0.0030 - accuracy: 1.0000 - val_loss: 0.3582 - val_accuracy: 0.8636\n",
            "Epoch 51/70\n",
            "10/10 [==============================] - 6s 584ms/step - loss: 0.0026 - accuracy: 1.0000 - val_loss: 0.3521 - val_accuracy: 0.8591\n",
            "Epoch 52/70\n",
            "10/10 [==============================] - 6s 575ms/step - loss: 0.0028 - accuracy: 1.0000 - val_loss: 0.2976 - val_accuracy: 0.8864\n",
            "Epoch 53/70\n",
            "10/10 [==============================] - 6s 645ms/step - loss: 0.0029 - accuracy: 1.0000 - val_loss: 0.3332 - val_accuracy: 0.8705\n",
            "Epoch 54/70\n",
            "10/10 [==============================] - 6s 626ms/step - loss: 0.0026 - accuracy: 1.0000 - val_loss: 0.3355 - val_accuracy: 0.8750\n",
            "Epoch 55/70\n",
            "10/10 [==============================] - 6s 624ms/step - loss: 0.0026 - accuracy: 1.0000 - val_loss: 0.3235 - val_accuracy: 0.8659\n",
            "Epoch 56/70\n",
            "10/10 [==============================] - 7s 692ms/step - loss: 0.0025 - accuracy: 1.0000 - val_loss: 0.3163 - val_accuracy: 0.8818\n",
            "Epoch 57/70\n",
            "10/10 [==============================] - 6s 594ms/step - loss: 0.0024 - accuracy: 1.0000 - val_loss: 0.3349 - val_accuracy: 0.8568\n",
            "Epoch 58/70\n",
            "10/10 [==============================] - 6s 597ms/step - loss: 0.0022 - accuracy: 1.0000 - val_loss: 0.3635 - val_accuracy: 0.8682\n",
            "Epoch 59/70\n",
            "10/10 [==============================] - 6s 581ms/step - loss: 0.0022 - accuracy: 1.0000 - val_loss: 0.3627 - val_accuracy: 0.8591\n",
            "Epoch 60/70\n",
            "10/10 [==============================] - 6s 576ms/step - loss: 0.0023 - accuracy: 1.0000 - val_loss: 0.3518 - val_accuracy: 0.8682\n",
            "Epoch 61/70\n",
            "10/10 [==============================] - 6s 576ms/step - loss: 0.0023 - accuracy: 1.0000 - val_loss: 0.3378 - val_accuracy: 0.8636\n",
            "Epoch 62/70\n",
            "10/10 [==============================] - 6s 578ms/step - loss: 0.0021 - accuracy: 1.0000 - val_loss: 0.3113 - val_accuracy: 0.8841\n",
            "Epoch 63/70\n",
            "10/10 [==============================] - 6s 575ms/step - loss: 0.0020 - accuracy: 1.0000 - val_loss: 0.3288 - val_accuracy: 0.8659\n",
            "Epoch 64/70\n",
            "10/10 [==============================] - 6s 579ms/step - loss: 0.0018 - accuracy: 1.0000 - val_loss: 0.3683 - val_accuracy: 0.8636\n",
            "Epoch 65/70\n",
            "10/10 [==============================] - 6s 578ms/step - loss: 0.0021 - accuracy: 1.0000 - val_loss: 0.3337 - val_accuracy: 0.8659\n",
            "Epoch 66/70\n",
            "10/10 [==============================] - 6s 570ms/step - loss: 0.0020 - accuracy: 1.0000 - val_loss: 0.3580 - val_accuracy: 0.8659\n",
            "Epoch 67/70\n",
            "10/10 [==============================] - 6s 587ms/step - loss: 0.0020 - accuracy: 1.0000 - val_loss: 0.3236 - val_accuracy: 0.8773\n",
            "Epoch 68/70\n",
            "10/10 [==============================] - 6s 565ms/step - loss: 0.0019 - accuracy: 1.0000 - val_loss: 0.3904 - val_accuracy: 0.8591\n",
            "Epoch 69/70\n",
            "10/10 [==============================] - 6s 588ms/step - loss: 0.0019 - accuracy: 1.0000 - val_loss: 0.3293 - val_accuracy: 0.8795\n",
            "Epoch 70/70\n",
            "10/10 [==============================] - 6s 577ms/step - loss: 0.0018 - accuracy: 1.0000 - val_loss: 0.4141 - val_accuracy: 0.8455\n"
          ]
        }
      ]
    },
    {
      "cell_type": "code",
      "metadata": {
        "id": "S0MN-N9TTNeR",
        "outputId": "0a756d5a-a883-4063-fc88-44cc566f28c2",
        "colab": {
          "base_uri": "https://localhost:8080/"
        }
      },
      "source": [
        "model.evaluate(gene(df[df.subset == 2],50),steps=650)"
      ],
      "execution_count": 29,
      "outputs": [
        {
          "output_type": "stream",
          "name": "stdout",
          "text": [
            "650/650 [==============================] - 50s 77ms/step - loss: 0.2593 - accuracy: 0.8769\n"
          ]
        },
        {
          "output_type": "execute_result",
          "data": {
            "text/plain": [
              "[0.2593493163585663, 0.8768923282623291]"
            ]
          },
          "metadata": {},
          "execution_count": 29
        }
      ]
    },
    {
      "cell_type": "code",
      "metadata": {
        "id": "sn-TId41TNeS",
        "outputId": "79933025-a0e7-4225-f78a-1dbdd1333640",
        "colab": {
          "base_uri": "https://localhost:8080/"
        }
      },
      "source": [
        "test.history.keys()"
      ],
      "execution_count": 30,
      "outputs": [
        {
          "output_type": "execute_result",
          "data": {
            "text/plain": [
              "dict_keys(['loss', 'accuracy', 'val_loss', 'val_accuracy'])"
            ]
          },
          "metadata": {},
          "execution_count": 30
        }
      ]
    },
    {
      "cell_type": "code",
      "metadata": {
        "id": "cMRpxvRoTNeS",
        "outputId": "d0ce857c-3987-411e-a450-babc8a8a9da9",
        "colab": {
          "base_uri": "https://localhost:8080/",
          "height": 282
        }
      },
      "source": [
        "import matplotlib.pyplot as plt\n",
        "plt.plot(test.history['loss'],label='loss')\n",
        "plt.plot(test.history['val_loss'],label='validation_loss')\n",
        "plt.legend()"
      ],
      "execution_count": 31,
      "outputs": [
        {
          "output_type": "execute_result",
          "data": {
            "text/plain": [
              "<matplotlib.legend.Legend at 0x7f8dfbf2cc50>"
            ]
          },
          "metadata": {},
          "execution_count": 31
        },
        {
          "output_type": "display_data",
          "data": {
            "image/png": "[encoded data removed]",
            "text/plain": [
              "<Figure size 432x288 with 1 Axes>"
            ]
          },
          "metadata": {
            "needs_background": "light"
          }
        }
      ]
    },
    {
      "cell_type": "code",
      "metadata": {
        "id": "1FHaqbIkTNeT",
        "outputId": "6b03fc8d-db20-43b6-bd8e-06d609305e58",
        "colab": {
          "base_uri": "https://localhost:8080/",
          "height": 282
        }
      },
      "source": [
        "plt.plot(test.history['accuracy'],label='accuracy')\n",
        "plt.plot(test.history['val_accuracy'],label='validation_accuracy')\n",
        "plt.legend()"
      ],
      "execution_count": 32,
      "outputs": [
        {
          "output_type": "execute_result",
          "data": {
            "text/plain": [
              "<matplotlib.legend.Legend at 0x7f8dfb574710>"
            ]
          },
          "metadata": {},
          "execution_count": 32
        },
        {
          "output_type": "display_data",
          "data": {
            "image/png": "[encoded data removed]",
            "text/plain": [
              "<Figure size 432x288 with 1 Axes>"
            ]
          },
          "metadata": {
            "needs_background": "light"
          }
        }
      ]
    },
    {
      "cell_type": "code",
      "metadata": {
        "id": "2yW6dwWoTNeU"
      },
      "source": [
        "model.save('bee.h5')"
      ],
      "execution_count": 33,
      "outputs": []
    },
    {
      "cell_type": "code",
      "source": [
        "print(np.shape(df.iloc[0]['x']))"
      ],
      "metadata": {
        "id": "M32vNpeKpb5V"
      },
      "execution_count": null,
      "outputs": []
    },
    {
      "cell_type": "code",
      "metadata": {
        "id": "jPFf_LHKTNeU"
      },
      "source": [
        "def test_image(n):\n",
        "  img = df.iloc[n]['x']\n",
        "  img = np.array(img+img)\n",
        "  return model.predict(img)[0]"
      ],
      "execution_count": 35,
      "outputs": []
    },
    {
      "cell_type": "code",
      "source": [
        "def test_image(n):   \n",
        "  img = df.iloc[n]['x']\n",
        "  plt.imshow(df.iloc[n]['x'])\n",
        "  plt.imshow(df.iloc[n]['x'][:, :, ::-1])\n",
        "  img = np.array([img for i in range(2)])   \n",
        "  return model.predict(img)[0]"
      ],
      "metadata": {
        "id": "rMdDdqxKqF_S"
      },
      "execution_count": 36,
      "outputs": []
    },
    {
      "cell_type": "code",
      "source": [
        "test_image(1)"
      ],
      "metadata": {
        "id": "cW6tSg6bqqCE",
        "outputId": "82a6d2a3-7ecc-4be7-fa43-e0ec2ba635e8",
        "colab": {
          "base_uri": "https://localhost:8080/",
          "height": 285
        }
      },
      "execution_count": 41,
      "outputs": [
        {
          "output_type": "execute_result",
          "data": {
            "text/plain": [
              "array([1.], dtype=float32)"
            ]
          },
          "metadata": {},
          "execution_count": 41
        },
        {
          "output_type": "display_data",
          "data": {
            "image/png": "[encoded data removed]",
            "text/plain": [
              "<Figure size 432x288 with 1 Axes>"
            ]
          },
          "metadata": {
            "needs_background": "light"
          }
        }
      ]
    }
  ]
}