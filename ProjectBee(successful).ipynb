{
  "nbformat": 4,
  "nbformat_minor": 0,
  "metadata": {
    "kernelspec": {
      "display_name": "TensorFlow-GPU",
      "language": "python",
      "name": "tf"
    },
    "language_info": {
      "codemirror_mode": {
        "name": "ipython",
        "version": 3
      },
      "file_extension": ".py",
      "mimetype": "text/x-python",
      "name": "python",
      "nbconvert_exporter": "python",
      "pygments_lexer": "ipython3",
      "version": "3.8.8"
    },
    "colab": {
      "name": "Untitled.ipynb",
      "provenance": [],
      "collapsed_sections": [],
      "include_colab_link": true
    }
  },
  "cells": [
    {
      "cell_type": "markdown",
      "metadata": {
        "id": "view-in-github",
        "colab_type": "text"
      },
      "source": [
        "<a href=\"https://colab.research.google.com/github/krit0885824924/Project-BeeAi/blob/main/ProjectBee(successful).ipynb\" target=\"_parent\"><img src=\"https://colab.research.google.com/assets/colab-badge.svg\" alt=\"Open In Colab\"/></a>"
      ]
    },
    {
      "cell_type": "code",
      "metadata": {
        "id": "KIFWqO4VTNd8"
      },
      "source": [
        "import tensorflow as tf"
      ],
      "execution_count": 42,
      "outputs": []
    },
    {
      "cell_type": "code",
      "metadata": {
        "id": "d4oj-HAfTNeA"
      },
      "source": [
        "import os"
      ],
      "execution_count": 43,
      "outputs": []
    },
    {
      "cell_type": "code",
      "metadata": {
        "id": "g10fu7fmTNeB"
      },
      "source": [
        "import numpy as np\n",
        "import pandas as pd"
      ],
      "execution_count": 44,
      "outputs": []
    },
    {
      "cell_type": "code",
      "metadata": {
        "id": "OXYIZdSuTNeC"
      },
      "source": [
        "from tqdm import tqdm"
      ],
      "execution_count": 45,
      "outputs": []
    },
    {
      "cell_type": "code",
      "metadata": {
        "id": "8Akt3hXRTNeD",
        "colab": {
          "base_uri": "https://localhost:8080/"
        },
        "outputId": "bb68b31d-cc4d-4f94-f4af-90c444abb90a"
      },
      "source": [
        "!dir"
      ],
      "execution_count": 46,
      "outputs": [
        {
          "output_type": "stream",
          "name": "stdout",
          "text": [
            "240665862_536278427583183_8669753848674047343_n.jpg  P11182-31r.jpg\n",
            "bee.h5\t\t\t\t\t\t     pollen_data.csv\n",
            "bee_model.h5\t\t\t\t\t     PollenDataset\n",
            "dataset.pkl\t\t\t\t\t     Read.ipynb\n",
            "images\t\t\t\t\t\t     README.md\n",
            "NP1768-10r.jpg\t\t\t\t\t     Read-skimage.ipynb\n"
          ]
        }
      ]
    },
    {
      "cell_type": "code",
      "source": [
        "from google.colab import drive\n",
        "drive.mount(\"/content/drive/\")\n",
        "os.chdir(\"/content/drive/MyDrive/projectbee\")"
      ],
      "metadata": {
        "colab": {
          "base_uri": "https://localhost:8080/"
        },
        "id": "ah5fzP8GeU1p",
        "outputId": "5b887169-6b94-4931-f14f-4a7a05cb72c7"
      },
      "execution_count": 47,
      "outputs": [
        {
          "output_type": "stream",
          "name": "stdout",
          "text": [
            "Drive already mounted at /content/drive/; to attempt to forcibly remount, call drive.mount(\"/content/drive/\", force_remount=True).\n"
          ]
        }
      ]
    },
    {
      "cell_type": "code",
      "metadata": {
        "id": "ayatwZOvTNeE",
        "outputId": "960530c6-67ae-43f5-9603-493b84ac1ec3",
        "colab": {
          "base_uri": "https://localhost:8080/",
          "height": 424
        }
      },
      "source": [
        "df = pd.read_csv('pollen_data.csv')\n",
        "df"
      ],
      "execution_count": 48,
      "outputs": [
        {
          "output_type": "execute_result",
          "data": {
            "text/html": [
              "\n",
              "  <div id=\"df-93c975bc-199b-411b-8a10-2df1c1c0045f\">\n",
              "    <div class=\"colab-df-container\">\n",
              "      <div>\n",
              "<style scoped>\n",
              "    .dataframe tbody tr th:only-of-type {\n",
              "        vertical-align: middle;\n",
              "    }\n",
              "\n",
              "    .dataframe tbody tr th {\n",
              "        vertical-align: top;\n",
              "    }\n",
              "\n",
              "    .dataframe thead th {\n",
              "        text-align: right;\n",
              "    }\n",
              "</style>\n",
              "<table border=\"1\" class=\"dataframe\">\n",
              "  <thead>\n",
              "    <tr style=\"text-align: right;\">\n",
              "      <th></th>\n",
              "      <th>Unnamed: 0</th>\n",
              "      <th>filename</th>\n",
              "      <th>pollen_carrying</th>\n",
              "    </tr>\n",
              "  </thead>\n",
              "  <tbody>\n",
              "    <tr>\n",
              "      <th>0</th>\n",
              "      <td>0</td>\n",
              "      <td>P10057-125r.jpg</td>\n",
              "      <td>1</td>\n",
              "    </tr>\n",
              "    <tr>\n",
              "      <th>1</th>\n",
              "      <td>1</td>\n",
              "      <td>P57380-120r.jpg</td>\n",
              "      <td>1</td>\n",
              "    </tr>\n",
              "    <tr>\n",
              "      <th>2</th>\n",
              "      <td>2</td>\n",
              "      <td>NP63671-221r.jpg</td>\n",
              "      <td>0</td>\n",
              "    </tr>\n",
              "    <tr>\n",
              "      <th>3</th>\n",
              "      <td>3</td>\n",
              "      <td>NP53776-47r.jpg</td>\n",
              "      <td>0</td>\n",
              "    </tr>\n",
              "    <tr>\n",
              "      <th>4</th>\n",
              "      <td>4</td>\n",
              "      <td>NP13382-201r.jpg</td>\n",
              "      <td>0</td>\n",
              "    </tr>\n",
              "    <tr>\n",
              "      <th>...</th>\n",
              "      <td>...</td>\n",
              "      <td>...</td>\n",
              "      <td>...</td>\n",
              "    </tr>\n",
              "    <tr>\n",
              "      <th>709</th>\n",
              "      <td>709</td>\n",
              "      <td>NP64239-233r.jpg</td>\n",
              "      <td>0</td>\n",
              "    </tr>\n",
              "    <tr>\n",
              "      <th>710</th>\n",
              "      <td>710</td>\n",
              "      <td>NP10304-132r.jpg</td>\n",
              "      <td>0</td>\n",
              "    </tr>\n",
              "    <tr>\n",
              "      <th>711</th>\n",
              "      <td>711</td>\n",
              "      <td>NP28671-238r.jpg</td>\n",
              "      <td>0</td>\n",
              "    </tr>\n",
              "    <tr>\n",
              "      <th>712</th>\n",
              "      <td>712</td>\n",
              "      <td>P14163-218r.jpg</td>\n",
              "      <td>1</td>\n",
              "    </tr>\n",
              "    <tr>\n",
              "      <th>713</th>\n",
              "      <td>713</td>\n",
              "      <td>NP1768-11r.jpg</td>\n",
              "      <td>0</td>\n",
              "    </tr>\n",
              "  </tbody>\n",
              "</table>\n",
              "<p>714 rows × 3 columns</p>\n",
              "</div>\n",
              "      <button class=\"colab-df-convert\" onclick=\"convertToInteractive('df-93c975bc-199b-411b-8a10-2df1c1c0045f')\"\n",
              "              title=\"Convert this dataframe to an interactive table.\"\n",
              "              style=\"display:none;\">\n",
              "        \n",
              "  <svg xmlns=\"http://www.w3.org/2000/svg\" height=\"24px\"viewBox=\"0 0 24 24\"\n",
              "       width=\"24px\">\n",
              "    <path d=\"M0 0h24v24H0V0z\" fill=\"none\"/>\n",
              "    <path d=\"M18.56 5.44l.94 2.06.94-2.06 2.06-.94-2.06-.94-.94-2.06-.94 2.06-2.06.94zm-11 1L8.5 8.5l.94-2.06 2.06-.94-2.06-.94L8.5 2.5l-.94 2.06-2.06.94zm10 10l.94 2.06.94-2.06 2.06-.94-2.06-.94-.94-2.06-.94 2.06-2.06.94z\"/><path d=\"M17.41 7.96l-1.37-1.37c-.4-.4-.92-.59-1.43-.59-.52 0-1.04.2-1.43.59L10.3 9.45l-7.72 7.72c-.78.78-.78 2.05 0 2.83L4 21.41c.39.39.9.59 1.41.59.51 0 1.02-.2 1.41-.59l7.78-7.78 2.81-2.81c.8-.78.8-2.07 0-2.86zM5.41 20L4 18.59l7.72-7.72 1.47 1.35L5.41 20z\"/>\n",
              "  </svg>\n",
              "      </button>\n",
              "      \n",
              "  <style>\n",
              "    .colab-df-container {\n",
              "      display:flex;\n",
              "      flex-wrap:wrap;\n",
              "      gap: 12px;\n",
              "    }\n",
              "\n",
              "    .colab-df-convert {\n",
              "      background-color: #E8F0FE;\n",
              "      border: none;\n",
              "      border-radius: 50%;\n",
              "      cursor: pointer;\n",
              "      display: none;\n",
              "      fill: #1967D2;\n",
              "      height: 32px;\n",
              "      padding: 0 0 0 0;\n",
              "      width: 32px;\n",
              "    }\n",
              "\n",
              "    .colab-df-convert:hover {\n",
              "      background-color: #E2EBFA;\n",
              "      box-shadow: 0px 1px 2px rgba(60, 64, 67, 0.3), 0px 1px 3px 1px rgba(60, 64, 67, 0.15);\n",
              "      fill: #174EA6;\n",
              "    }\n",
              "\n",
              "    [theme=dark] .colab-df-convert {\n",
              "      background-color: #3B4455;\n",
              "      fill: #D2E3FC;\n",
              "    }\n",
              "\n",
              "    [theme=dark] .colab-df-convert:hover {\n",
              "      background-color: #434B5C;\n",
              "      box-shadow: 0px 1px 3px 1px rgba(0, 0, 0, 0.15);\n",
              "      filter: drop-shadow(0px 1px 2px rgba(0, 0, 0, 0.3));\n",
              "      fill: #FFFFFF;\n",
              "    }\n",
              "  </style>\n",
              "\n",
              "      <script>\n",
              "        const buttonEl =\n",
              "          document.querySelector('#df-93c975bc-199b-411b-8a10-2df1c1c0045f button.colab-df-convert');\n",
              "        buttonEl.style.display =\n",
              "          google.colab.kernel.accessAllowed ? 'block' : 'none';\n",
              "\n",
              "        async function convertToInteractive(key) {\n",
              "          const element = document.querySelector('#df-93c975bc-199b-411b-8a10-2df1c1c0045f');\n",
              "          const dataTable =\n",
              "            await google.colab.kernel.invokeFunction('convertToInteractive',\n",
              "                                                     [key], {});\n",
              "          if (!dataTable) return;\n",
              "\n",
              "          const docLinkHtml = 'Like what you see? Visit the ' +\n",
              "            '<a target=\"_blank\" href=https://colab.research.google.com/notebooks/data_table.ipynb>data table notebook</a>'\n",
              "            + ' to learn more about interactive tables.';\n",
              "          element.innerHTML = '';\n",
              "          dataTable['output_type'] = 'display_data';\n",
              "          await google.colab.output.renderOutput(dataTable, element);\n",
              "          const docLink = document.createElement('div');\n",
              "          docLink.innerHTML = docLinkHtml;\n",
              "          element.appendChild(docLink);\n",
              "        }\n",
              "      </script>\n",
              "    </div>\n",
              "  </div>\n",
              "  "
            ],
            "text/plain": [
              "     Unnamed: 0          filename  pollen_carrying\n",
              "0             0   P10057-125r.jpg                1\n",
              "1             1   P57380-120r.jpg                1\n",
              "2             2  NP63671-221r.jpg                0\n",
              "3             3   NP53776-47r.jpg                0\n",
              "4             4  NP13382-201r.jpg                0\n",
              "..          ...               ...              ...\n",
              "709         709  NP64239-233r.jpg                0\n",
              "710         710  NP10304-132r.jpg                0\n",
              "711         711  NP28671-238r.jpg                0\n",
              "712         712   P14163-218r.jpg                1\n",
              "713         713    NP1768-11r.jpg                0\n",
              "\n",
              "[714 rows x 3 columns]"
            ]
          },
          "metadata": {},
          "execution_count": 48
        }
      ]
    },
    {
      "cell_type": "code",
      "metadata": {
        "id": "Ik_Kf8wqTNeG",
        "outputId": "a032192f-8162-41f2-8cd4-00f64fd085ac",
        "colab": {
          "base_uri": "https://localhost:8080/"
        }
      },
      "source": [
        "df['pollen_carrying'].value_counts()"
      ],
      "execution_count": 49,
      "outputs": [
        {
          "output_type": "execute_result",
          "data": {
            "text/plain": [
              "1    369\n",
              "0    345\n",
              "Name: pollen_carrying, dtype: int64"
            ]
          },
          "metadata": {},
          "execution_count": 49
        }
      ]
    },
    {
      "cell_type": "code",
      "metadata": {
        "id": "45pz0ZiaTNeH"
      },
      "source": [
        "import random "
      ],
      "execution_count": 50,
      "outputs": []
    },
    {
      "cell_type": "code",
      "metadata": {
        "id": "od3gxZLFTNeI"
      },
      "source": [
        "random.seed(69420)"
      ],
      "execution_count": 51,
      "outputs": []
    },
    {
      "cell_type": "code",
      "metadata": {
        "id": "SjYd7s63TNeL",
        "outputId": "61956d9b-0202-43f8-c019-9fb8813c0498",
        "colab": {
          "base_uri": "https://localhost:8080/",
          "height": 424
        }
      },
      "source": [
        "df['subset'] = random.choices([0,1,2],[0.8,0.1,0.1],k = len(df))\n",
        "df"
      ],
      "execution_count": 52,
      "outputs": [
        {
          "output_type": "execute_result",
          "data": {
            "text/html": [
              "\n",
              "  <div id=\"df-7c0a1d7e-82ec-4953-9f0d-73c1f445e143\">\n",
              "    <div class=\"colab-df-container\">\n",
              "      <div>\n",
              "<style scoped>\n",
              "    .dataframe tbody tr th:only-of-type {\n",
              "        vertical-align: middle;\n",
              "    }\n",
              "\n",
              "    .dataframe tbody tr th {\n",
              "        vertical-align: top;\n",
              "    }\n",
              "\n",
              "    .dataframe thead th {\n",
              "        text-align: right;\n",
              "    }\n",
              "</style>\n",
              "<table border=\"1\" class=\"dataframe\">\n",
              "  <thead>\n",
              "    <tr style=\"text-align: right;\">\n",
              "      <th></th>\n",
              "      <th>Unnamed: 0</th>\n",
              "      <th>filename</th>\n",
              "      <th>pollen_carrying</th>\n",
              "      <th>subset</th>\n",
              "    </tr>\n",
              "  </thead>\n",
              "  <tbody>\n",
              "    <tr>\n",
              "      <th>0</th>\n",
              "      <td>0</td>\n",
              "      <td>P10057-125r.jpg</td>\n",
              "      <td>1</td>\n",
              "      <td>0</td>\n",
              "    </tr>\n",
              "    <tr>\n",
              "      <th>1</th>\n",
              "      <td>1</td>\n",
              "      <td>P57380-120r.jpg</td>\n",
              "      <td>1</td>\n",
              "      <td>0</td>\n",
              "    </tr>\n",
              "    <tr>\n",
              "      <th>2</th>\n",
              "      <td>2</td>\n",
              "      <td>NP63671-221r.jpg</td>\n",
              "      <td>0</td>\n",
              "      <td>0</td>\n",
              "    </tr>\n",
              "    <tr>\n",
              "      <th>3</th>\n",
              "      <td>3</td>\n",
              "      <td>NP53776-47r.jpg</td>\n",
              "      <td>0</td>\n",
              "      <td>1</td>\n",
              "    </tr>\n",
              "    <tr>\n",
              "      <th>4</th>\n",
              "      <td>4</td>\n",
              "      <td>NP13382-201r.jpg</td>\n",
              "      <td>0</td>\n",
              "      <td>0</td>\n",
              "    </tr>\n",
              "    <tr>\n",
              "      <th>...</th>\n",
              "      <td>...</td>\n",
              "      <td>...</td>\n",
              "      <td>...</td>\n",
              "      <td>...</td>\n",
              "    </tr>\n",
              "    <tr>\n",
              "      <th>709</th>\n",
              "      <td>709</td>\n",
              "      <td>NP64239-233r.jpg</td>\n",
              "      <td>0</td>\n",
              "      <td>0</td>\n",
              "    </tr>\n",
              "    <tr>\n",
              "      <th>710</th>\n",
              "      <td>710</td>\n",
              "      <td>NP10304-132r.jpg</td>\n",
              "      <td>0</td>\n",
              "      <td>0</td>\n",
              "    </tr>\n",
              "    <tr>\n",
              "      <th>711</th>\n",
              "      <td>711</td>\n",
              "      <td>NP28671-238r.jpg</td>\n",
              "      <td>0</td>\n",
              "      <td>0</td>\n",
              "    </tr>\n",
              "    <tr>\n",
              "      <th>712</th>\n",
              "      <td>712</td>\n",
              "      <td>P14163-218r.jpg</td>\n",
              "      <td>1</td>\n",
              "      <td>2</td>\n",
              "    </tr>\n",
              "    <tr>\n",
              "      <th>713</th>\n",
              "      <td>713</td>\n",
              "      <td>NP1768-11r.jpg</td>\n",
              "      <td>0</td>\n",
              "      <td>0</td>\n",
              "    </tr>\n",
              "  </tbody>\n",
              "</table>\n",
              "<p>714 rows × 4 columns</p>\n",
              "</div>\n",
              "      <button class=\"colab-df-convert\" onclick=\"convertToInteractive('df-7c0a1d7e-82ec-4953-9f0d-73c1f445e143')\"\n",
              "              title=\"Convert this dataframe to an interactive table.\"\n",
              "              style=\"display:none;\">\n",
              "        \n",
              "  <svg xmlns=\"http://www.w3.org/2000/svg\" height=\"24px\"viewBox=\"0 0 24 24\"\n",
              "       width=\"24px\">\n",
              "    <path d=\"M0 0h24v24H0V0z\" fill=\"none\"/>\n",
              "    <path d=\"M18.56 5.44l.94 2.06.94-2.06 2.06-.94-2.06-.94-.94-2.06-.94 2.06-2.06.94zm-11 1L8.5 8.5l.94-2.06 2.06-.94-2.06-.94L8.5 2.5l-.94 2.06-2.06.94zm10 10l.94 2.06.94-2.06 2.06-.94-2.06-.94-.94-2.06-.94 2.06-2.06.94z\"/><path d=\"M17.41 7.96l-1.37-1.37c-.4-.4-.92-.59-1.43-.59-.52 0-1.04.2-1.43.59L10.3 9.45l-7.72 7.72c-.78.78-.78 2.05 0 2.83L4 21.41c.39.39.9.59 1.41.59.51 0 1.02-.2 1.41-.59l7.78-7.78 2.81-2.81c.8-.78.8-2.07 0-2.86zM5.41 20L4 18.59l7.72-7.72 1.47 1.35L5.41 20z\"/>\n",
              "  </svg>\n",
              "      </button>\n",
              "      \n",
              "  <style>\n",
              "    .colab-df-container {\n",
              "      display:flex;\n",
              "      flex-wrap:wrap;\n",
              "      gap: 12px;\n",
              "    }\n",
              "\n",
              "    .colab-df-convert {\n",
              "      background-color: #E8F0FE;\n",
              "      border: none;\n",
              "      border-radius: 50%;\n",
              "      cursor: pointer;\n",
              "      display: none;\n",
              "      fill: #1967D2;\n",
              "      height: 32px;\n",
              "      padding: 0 0 0 0;\n",
              "      width: 32px;\n",
              "    }\n",
              "\n",
              "    .colab-df-convert:hover {\n",
              "      background-color: #E2EBFA;\n",
              "      box-shadow: 0px 1px 2px rgba(60, 64, 67, 0.3), 0px 1px 3px 1px rgba(60, 64, 67, 0.15);\n",
              "      fill: #174EA6;\n",
              "    }\n",
              "\n",
              "    [theme=dark] .colab-df-convert {\n",
              "      background-color: #3B4455;\n",
              "      fill: #D2E3FC;\n",
              "    }\n",
              "\n",
              "    [theme=dark] .colab-df-convert:hover {\n",
              "      background-color: #434B5C;\n",
              "      box-shadow: 0px 1px 3px 1px rgba(0, 0, 0, 0.15);\n",
              "      filter: drop-shadow(0px 1px 2px rgba(0, 0, 0, 0.3));\n",
              "      fill: #FFFFFF;\n",
              "    }\n",
              "  </style>\n",
              "\n",
              "      <script>\n",
              "        const buttonEl =\n",
              "          document.querySelector('#df-7c0a1d7e-82ec-4953-9f0d-73c1f445e143 button.colab-df-convert');\n",
              "        buttonEl.style.display =\n",
              "          google.colab.kernel.accessAllowed ? 'block' : 'none';\n",
              "\n",
              "        async function convertToInteractive(key) {\n",
              "          const element = document.querySelector('#df-7c0a1d7e-82ec-4953-9f0d-73c1f445e143');\n",
              "          const dataTable =\n",
              "            await google.colab.kernel.invokeFunction('convertToInteractive',\n",
              "                                                     [key], {});\n",
              "          if (!dataTable) return;\n",
              "\n",
              "          const docLinkHtml = 'Like what you see? Visit the ' +\n",
              "            '<a target=\"_blank\" href=https://colab.research.google.com/notebooks/data_table.ipynb>data table notebook</a>'\n",
              "            + ' to learn more about interactive tables.';\n",
              "          element.innerHTML = '';\n",
              "          dataTable['output_type'] = 'display_data';\n",
              "          await google.colab.output.renderOutput(dataTable, element);\n",
              "          const docLink = document.createElement('div');\n",
              "          docLink.innerHTML = docLinkHtml;\n",
              "          element.appendChild(docLink);\n",
              "        }\n",
              "      </script>\n",
              "    </div>\n",
              "  </div>\n",
              "  "
            ],
            "text/plain": [
              "     Unnamed: 0          filename  pollen_carrying  subset\n",
              "0             0   P10057-125r.jpg                1       0\n",
              "1             1   P57380-120r.jpg                1       0\n",
              "2             2  NP63671-221r.jpg                0       0\n",
              "3             3   NP53776-47r.jpg                0       1\n",
              "4             4  NP13382-201r.jpg                0       0\n",
              "..          ...               ...              ...     ...\n",
              "709         709  NP64239-233r.jpg                0       0\n",
              "710         710  NP10304-132r.jpg                0       0\n",
              "711         711  NP28671-238r.jpg                0       0\n",
              "712         712   P14163-218r.jpg                1       2\n",
              "713         713    NP1768-11r.jpg                0       0\n",
              "\n",
              "[714 rows x 4 columns]"
            ]
          },
          "metadata": {},
          "execution_count": 52
        }
      ]
    },
    {
      "cell_type": "code",
      "source": [
        "import cv2"
      ],
      "metadata": {
        "id": "i8RXjlInevBZ"
      },
      "execution_count": 53,
      "outputs": []
    },
    {
      "cell_type": "code",
      "metadata": {
        "id": "zEp48T7iTNeM",
        "outputId": "b3c439fe-d556-49f6-c126-84d7820b33dc",
        "colab": {
          "base_uri": "https://localhost:8080/"
        }
      },
      "source": [
        "x = []\n",
        "y = []\n",
        "for i,a in tqdm(df.iterrows()):\n",
        "    x.append(cv2.resize(cv2.imread('images/'+a.filename),(64,64))/255)\n",
        "df['x'] = x"
      ],
      "execution_count": 54,
      "outputs": [
        {
          "output_type": "stream",
          "name": "stderr",
          "text": [
            "714it [00:03, 184.76it/s]\n"
          ]
        }
      ]
    },
    {
      "cell_type": "code",
      "metadata": {
        "id": "RYScyFX3TNeN",
        "colab": {
          "base_uri": "https://localhost:8080/",
          "height": 424
        },
        "outputId": "ba7c7676-f157-4a24-e41d-83e0b98376cd"
      },
      "source": [
        "df"
      ],
      "execution_count": 55,
      "outputs": [
        {
          "output_type": "execute_result",
          "data": {
            "text/html": [
              "\n",
              "  <div id=\"df-b707698d-8ab4-45fc-94c0-30a6d094e704\">\n",
              "    <div class=\"colab-df-container\">\n",
              "      <div>\n",
              "<style scoped>\n",
              "    .dataframe tbody tr th:only-of-type {\n",
              "        vertical-align: middle;\n",
              "    }\n",
              "\n",
              "    .dataframe tbody tr th {\n",
              "        vertical-align: top;\n",
              "    }\n",
              "\n",
              "    .dataframe thead th {\n",
              "        text-align: right;\n",
              "    }\n",
              "</style>\n",
              "<table border=\"1\" class=\"dataframe\">\n",
              "  <thead>\n",
              "    <tr style=\"text-align: right;\">\n",
              "      <th></th>\n",
              "      <th>Unnamed: 0</th>\n",
              "      <th>filename</th>\n",
              "      <th>pollen_carrying</th>\n",
              "      <th>subset</th>\n",
              "      <th>x</th>\n",
              "    </tr>\n",
              "  </thead>\n",
              "  <tbody>\n",
              "    <tr>\n",
              "      <th>0</th>\n",
              "      <td>0</td>\n",
              "      <td>P10057-125r.jpg</td>\n",
              "      <td>1</td>\n",
              "      <td>0</td>\n",
              "      <td>[[[0.6549019607843137, 0.5215686274509804, 0.2...</td>\n",
              "    </tr>\n",
              "    <tr>\n",
              "      <th>1</th>\n",
              "      <td>1</td>\n",
              "      <td>P57380-120r.jpg</td>\n",
              "      <td>1</td>\n",
              "      <td>0</td>\n",
              "      <td>[[[0.6039215686274509, 0.47058823529411764, 0....</td>\n",
              "    </tr>\n",
              "    <tr>\n",
              "      <th>2</th>\n",
              "      <td>2</td>\n",
              "      <td>NP63671-221r.jpg</td>\n",
              "      <td>0</td>\n",
              "      <td>0</td>\n",
              "      <td>[[[0.596078431372549, 0.4549019607843137, 0.21...</td>\n",
              "    </tr>\n",
              "    <tr>\n",
              "      <th>3</th>\n",
              "      <td>3</td>\n",
              "      <td>NP53776-47r.jpg</td>\n",
              "      <td>0</td>\n",
              "      <td>1</td>\n",
              "      <td>[[[0.5568627450980392, 0.43137254901960786, 0....</td>\n",
              "    </tr>\n",
              "    <tr>\n",
              "      <th>4</th>\n",
              "      <td>4</td>\n",
              "      <td>NP13382-201r.jpg</td>\n",
              "      <td>0</td>\n",
              "      <td>0</td>\n",
              "      <td>[[[0.5058823529411764, 0.4, 0.1764705882352941...</td>\n",
              "    </tr>\n",
              "    <tr>\n",
              "      <th>...</th>\n",
              "      <td>...</td>\n",
              "      <td>...</td>\n",
              "      <td>...</td>\n",
              "      <td>...</td>\n",
              "      <td>...</td>\n",
              "    </tr>\n",
              "    <tr>\n",
              "      <th>709</th>\n",
              "      <td>709</td>\n",
              "      <td>NP64239-233r.jpg</td>\n",
              "      <td>0</td>\n",
              "      <td>0</td>\n",
              "      <td>[[[0.5490196078431373, 0.43529411764705883, 0....</td>\n",
              "    </tr>\n",
              "    <tr>\n",
              "      <th>710</th>\n",
              "      <td>710</td>\n",
              "      <td>NP10304-132r.jpg</td>\n",
              "      <td>0</td>\n",
              "      <td>0</td>\n",
              "      <td>[[[0.6313725490196078, 0.5176470588235295, 0.2...</td>\n",
              "    </tr>\n",
              "    <tr>\n",
              "      <th>711</th>\n",
              "      <td>711</td>\n",
              "      <td>NP28671-238r.jpg</td>\n",
              "      <td>0</td>\n",
              "      <td>0</td>\n",
              "      <td>[[[0.4745098039215686, 0.34509803921568627, 0....</td>\n",
              "    </tr>\n",
              "    <tr>\n",
              "      <th>712</th>\n",
              "      <td>712</td>\n",
              "      <td>P14163-218r.jpg</td>\n",
              "      <td>1</td>\n",
              "      <td>2</td>\n",
              "      <td>[[[0.6274509803921569, 0.4980392156862745, 0.2...</td>\n",
              "    </tr>\n",
              "    <tr>\n",
              "      <th>713</th>\n",
              "      <td>713</td>\n",
              "      <td>NP1768-11r.jpg</td>\n",
              "      <td>0</td>\n",
              "      <td>0</td>\n",
              "      <td>[[[0.6313725490196078, 0.4980392156862745, 0.2...</td>\n",
              "    </tr>\n",
              "  </tbody>\n",
              "</table>\n",
              "<p>714 rows × 5 columns</p>\n",
              "</div>\n",
              "      <button class=\"colab-df-convert\" onclick=\"convertToInteractive('df-b707698d-8ab4-45fc-94c0-30a6d094e704')\"\n",
              "              title=\"Convert this dataframe to an interactive table.\"\n",
              "              style=\"display:none;\">\n",
              "        \n",
              "  <svg xmlns=\"http://www.w3.org/2000/svg\" height=\"24px\"viewBox=\"0 0 24 24\"\n",
              "       width=\"24px\">\n",
              "    <path d=\"M0 0h24v24H0V0z\" fill=\"none\"/>\n",
              "    <path d=\"M18.56 5.44l.94 2.06.94-2.06 2.06-.94-2.06-.94-.94-2.06-.94 2.06-2.06.94zm-11 1L8.5 8.5l.94-2.06 2.06-.94-2.06-.94L8.5 2.5l-.94 2.06-2.06.94zm10 10l.94 2.06.94-2.06 2.06-.94-2.06-.94-.94-2.06-.94 2.06-2.06.94z\"/><path d=\"M17.41 7.96l-1.37-1.37c-.4-.4-.92-.59-1.43-.59-.52 0-1.04.2-1.43.59L10.3 9.45l-7.72 7.72c-.78.78-.78 2.05 0 2.83L4 21.41c.39.39.9.59 1.41.59.51 0 1.02-.2 1.41-.59l7.78-7.78 2.81-2.81c.8-.78.8-2.07 0-2.86zM5.41 20L4 18.59l7.72-7.72 1.47 1.35L5.41 20z\"/>\n",
              "  </svg>\n",
              "      </button>\n",
              "      \n",
              "  <style>\n",
              "    .colab-df-container {\n",
              "      display:flex;\n",
              "      flex-wrap:wrap;\n",
              "      gap: 12px;\n",
              "    }\n",
              "\n",
              "    .colab-df-convert {\n",
              "      background-color: #E8F0FE;\n",
              "      border: none;\n",
              "      border-radius: 50%;\n",
              "      cursor: pointer;\n",
              "      display: none;\n",
              "      fill: #1967D2;\n",
              "      height: 32px;\n",
              "      padding: 0 0 0 0;\n",
              "      width: 32px;\n",
              "    }\n",
              "\n",
              "    .colab-df-convert:hover {\n",
              "      background-color: #E2EBFA;\n",
              "      box-shadow: 0px 1px 2px rgba(60, 64, 67, 0.3), 0px 1px 3px 1px rgba(60, 64, 67, 0.15);\n",
              "      fill: #174EA6;\n",
              "    }\n",
              "\n",
              "    [theme=dark] .colab-df-convert {\n",
              "      background-color: #3B4455;\n",
              "      fill: #D2E3FC;\n",
              "    }\n",
              "\n",
              "    [theme=dark] .colab-df-convert:hover {\n",
              "      background-color: #434B5C;\n",
              "      box-shadow: 0px 1px 3px 1px rgba(0, 0, 0, 0.15);\n",
              "      filter: drop-shadow(0px 1px 2px rgba(0, 0, 0, 0.3));\n",
              "      fill: #FFFFFF;\n",
              "    }\n",
              "  </style>\n",
              "\n",
              "      <script>\n",
              "        const buttonEl =\n",
              "          document.querySelector('#df-b707698d-8ab4-45fc-94c0-30a6d094e704 button.colab-df-convert');\n",
              "        buttonEl.style.display =\n",
              "          google.colab.kernel.accessAllowed ? 'block' : 'none';\n",
              "\n",
              "        async function convertToInteractive(key) {\n",
              "          const element = document.querySelector('#df-b707698d-8ab4-45fc-94c0-30a6d094e704');\n",
              "          const dataTable =\n",
              "            await google.colab.kernel.invokeFunction('convertToInteractive',\n",
              "                                                     [key], {});\n",
              "          if (!dataTable) return;\n",
              "\n",
              "          const docLinkHtml = 'Like what you see? Visit the ' +\n",
              "            '<a target=\"_blank\" href=https://colab.research.google.com/notebooks/data_table.ipynb>data table notebook</a>'\n",
              "            + ' to learn more about interactive tables.';\n",
              "          element.innerHTML = '';\n",
              "          dataTable['output_type'] = 'display_data';\n",
              "          await google.colab.output.renderOutput(dataTable, element);\n",
              "          const docLink = document.createElement('div');\n",
              "          docLink.innerHTML = docLinkHtml;\n",
              "          element.appendChild(docLink);\n",
              "        }\n",
              "      </script>\n",
              "    </div>\n",
              "  </div>\n",
              "  "
            ],
            "text/plain": [
              "     Unnamed: 0  ...                                                  x\n",
              "0             0  ...  [[[0.6549019607843137, 0.5215686274509804, 0.2...\n",
              "1             1  ...  [[[0.6039215686274509, 0.47058823529411764, 0....\n",
              "2             2  ...  [[[0.596078431372549, 0.4549019607843137, 0.21...\n",
              "3             3  ...  [[[0.5568627450980392, 0.43137254901960786, 0....\n",
              "4             4  ...  [[[0.5058823529411764, 0.4, 0.1764705882352941...\n",
              "..          ...  ...                                                ...\n",
              "709         709  ...  [[[0.5490196078431373, 0.43529411764705883, 0....\n",
              "710         710  ...  [[[0.6313725490196078, 0.5176470588235295, 0.2...\n",
              "711         711  ...  [[[0.4745098039215686, 0.34509803921568627, 0....\n",
              "712         712  ...  [[[0.6274509803921569, 0.4980392156862745, 0.2...\n",
              "713         713  ...  [[[0.6313725490196078, 0.4980392156862745, 0.2...\n",
              "\n",
              "[714 rows x 5 columns]"
            ]
          },
          "metadata": {},
          "execution_count": 55
        }
      ]
    },
    {
      "cell_type": "code",
      "metadata": {
        "id": "KK5tpFuYTNeP"
      },
      "source": [
        "def gene(df,batch):\n",
        "    while 1:\n",
        "        x = []\n",
        "        y = []\n",
        "        sub = df.groupby('pollen_carrying').sample(int(batch/2))\n",
        "        for i,a in sub.iterrows():\n",
        "            x.append(a.x)\n",
        "            y.append(a.pollen_carrying)\n",
        "        yield np.array(x),np.array(y) "
      ],
      "execution_count": 56,
      "outputs": []
    },
    {
      "cell_type": "code",
      "metadata": {
        "id": "b1euvihkTNeQ"
      },
      "source": [
        "x,y = next(gene(df,18))"
      ],
      "execution_count": 57,
      "outputs": []
    },
    {
      "cell_type": "code",
      "metadata": {
        "id": "oM7P6vBjTNeQ",
        "outputId": "f3950d4c-d4b2-485e-b559-fc60175522ab",
        "colab": {
          "base_uri": "https://localhost:8080/"
        }
      },
      "source": [
        "y"
      ],
      "execution_count": 58,
      "outputs": [
        {
          "output_type": "execute_result",
          "data": {
            "text/plain": [
              "array([0, 0, 0, 0, 0, 0, 0, 0, 0, 1, 1, 1, 1, 1, 1, 1, 1, 1])"
            ]
          },
          "metadata": {},
          "execution_count": 58
        }
      ]
    },
    {
      "cell_type": "code",
      "metadata": {
        "id": "vlbfMazeTNeQ"
      },
      "source": [
        "from tensorflow.keras import layers"
      ],
      "execution_count": 59,
      "outputs": []
    },
    {
      "cell_type": "code",
      "metadata": {
        "id": "hws4W_xYTNeR"
      },
      "source": [
        "inputs = layers.Input(shape=(64,64,3))\n",
        "x = tf.keras.layers.Conv2D(32,(3,3),padding=\"same\")(inputs)\n",
        "x = tf.keras.layers.BatchNormalization()(x)\n",
        "x = tf.keras.layers.Activation(tf.keras.activations.relu)(x)\n",
        "x = layers.Flatten()(x)\n",
        "x = layers.Dropout(0.1)(x)\n",
        "x = layers.Dense(32,activation='relu')(x)\n",
        "x = layers.Dense(1,activation='sigmoid')(x)\n",
        "model = tf.keras.Model(inputs=inputs, outputs=x)\n",
        "model.compile(loss=\"binary_crossentropy\", optimizer=tf.keras.optimizers.Adam(\n",
        "    learning_rate=0.0001), metrics=[\"accuracy\"])"
      ],
      "execution_count": 60,
      "outputs": []
    },
    {
      "cell_type": "code",
      "source": [
        "test = model.fit(gene(df[df.subset == 0],90),epochs=70\n",
        "                ,validation_data=(gene(df[df.subset == 1],45))\n",
        "                ,steps_per_epoch=10\n",
        "                ,validation_steps=10)"
      ],
      "metadata": {
        "colab": {
          "base_uri": "https://localhost:8080/"
        },
        "id": "6V0L4hVmhv7p",
        "outputId": "8d051648-bfed-40c3-a59e-bacd4acd6853"
      },
      "execution_count": 61,
      "outputs": [
        {
          "output_type": "stream",
          "name": "stdout",
          "text": [
            "Epoch 1/70\n",
            "10/10 [==============================] - 7s 614ms/step - loss: 0.7946 - accuracy: 0.6500 - val_loss: 0.6539 - val_accuracy: 0.7159\n",
            "Epoch 2/70\n",
            "10/10 [==============================] - 6s 593ms/step - loss: 0.3326 - accuracy: 0.8556 - val_loss: 0.6461 - val_accuracy: 0.5773\n",
            "Epoch 3/70\n",
            "10/10 [==============================] - 6s 597ms/step - loss: 0.2177 - accuracy: 0.9111 - val_loss: 0.6247 - val_accuracy: 0.7864\n",
            "Epoch 4/70\n",
            "10/10 [==============================] - 6s 601ms/step - loss: 0.1501 - accuracy: 0.9422 - val_loss: 0.6131 - val_accuracy: 0.7750\n",
            "Epoch 5/70\n",
            "10/10 [==============================] - 6s 582ms/step - loss: 0.1205 - accuracy: 0.9667 - val_loss: 0.5964 - val_accuracy: 0.8091\n",
            "Epoch 6/70\n",
            "10/10 [==============================] - 6s 590ms/step - loss: 0.0985 - accuracy: 0.9722 - val_loss: 0.5876 - val_accuracy: 0.7955\n",
            "Epoch 7/70\n",
            "10/10 [==============================] - 6s 579ms/step - loss: 0.0758 - accuracy: 0.9889 - val_loss: 0.5751 - val_accuracy: 0.8273\n",
            "Epoch 8/70\n",
            "10/10 [==============================] - 6s 580ms/step - loss: 0.0615 - accuracy: 0.9911 - val_loss: 0.5635 - val_accuracy: 0.8455\n",
            "Epoch 9/70\n",
            "10/10 [==============================] - 6s 593ms/step - loss: 0.0485 - accuracy: 0.9978 - val_loss: 0.5594 - val_accuracy: 0.8341\n",
            "Epoch 10/70\n",
            "10/10 [==============================] - 6s 591ms/step - loss: 0.0386 - accuracy: 0.9978 - val_loss: 0.5369 - val_accuracy: 0.8250\n",
            "Epoch 11/70\n",
            "10/10 [==============================] - 6s 587ms/step - loss: 0.0313 - accuracy: 1.0000 - val_loss: 0.5294 - val_accuracy: 0.8273\n",
            "Epoch 12/70\n",
            "10/10 [==============================] - 6s 606ms/step - loss: 0.0268 - accuracy: 1.0000 - val_loss: 0.5245 - val_accuracy: 0.8455\n",
            "Epoch 13/70\n",
            "10/10 [==============================] - 6s 614ms/step - loss: 0.0247 - accuracy: 1.0000 - val_loss: 0.4958 - val_accuracy: 0.8432\n",
            "Epoch 14/70\n",
            "10/10 [==============================] - 6s 595ms/step - loss: 0.0221 - accuracy: 1.0000 - val_loss: 0.4867 - val_accuracy: 0.8591\n",
            "Epoch 15/70\n",
            "10/10 [==============================] - 6s 607ms/step - loss: 0.0222 - accuracy: 1.0000 - val_loss: 0.4625 - val_accuracy: 0.8409\n",
            "Epoch 16/70\n",
            "10/10 [==============================] - 6s 602ms/step - loss: 0.0191 - accuracy: 1.0000 - val_loss: 0.4764 - val_accuracy: 0.8295\n",
            "Epoch 17/70\n",
            "10/10 [==============================] - 6s 605ms/step - loss: 0.0186 - accuracy: 1.0000 - val_loss: 0.4464 - val_accuracy: 0.8250\n",
            "Epoch 18/70\n",
            "10/10 [==============================] - 6s 598ms/step - loss: 0.0134 - accuracy: 1.0000 - val_loss: 0.4359 - val_accuracy: 0.8068\n",
            "Epoch 19/70\n",
            "10/10 [==============================] - 6s 600ms/step - loss: 0.0136 - accuracy: 1.0000 - val_loss: 0.4115 - val_accuracy: 0.8386\n",
            "Epoch 20/70\n",
            "10/10 [==============================] - 6s 609ms/step - loss: 0.0130 - accuracy: 1.0000 - val_loss: 0.4198 - val_accuracy: 0.8364\n",
            "Epoch 21/70\n",
            "10/10 [==============================] - 6s 629ms/step - loss: 0.0120 - accuracy: 1.0000 - val_loss: 0.4090 - val_accuracy: 0.8341\n",
            "Epoch 22/70\n",
            "10/10 [==============================] - 6s 600ms/step - loss: 0.0116 - accuracy: 1.0000 - val_loss: 0.4048 - val_accuracy: 0.8341\n",
            "Epoch 23/70\n",
            "10/10 [==============================] - 6s 593ms/step - loss: 0.0112 - accuracy: 1.0000 - val_loss: 0.3764 - val_accuracy: 0.8500\n",
            "Epoch 24/70\n",
            "10/10 [==============================] - 6s 593ms/step - loss: 0.0100 - accuracy: 1.0000 - val_loss: 0.3896 - val_accuracy: 0.8045\n",
            "Epoch 25/70\n",
            "10/10 [==============================] - 6s 601ms/step - loss: 0.0090 - accuracy: 1.0000 - val_loss: 0.3788 - val_accuracy: 0.8295\n",
            "Epoch 26/70\n",
            "10/10 [==============================] - 6s 603ms/step - loss: 0.0095 - accuracy: 1.0000 - val_loss: 0.3612 - val_accuracy: 0.8136\n",
            "Epoch 27/70\n",
            "10/10 [==============================] - 6s 598ms/step - loss: 0.0084 - accuracy: 1.0000 - val_loss: 0.3618 - val_accuracy: 0.8000\n",
            "Epoch 28/70\n",
            "10/10 [==============================] - 6s 597ms/step - loss: 0.0071 - accuracy: 1.0000 - val_loss: 0.3514 - val_accuracy: 0.8159\n",
            "Epoch 29/70\n",
            "10/10 [==============================] - 6s 601ms/step - loss: 0.0078 - accuracy: 1.0000 - val_loss: 0.3321 - val_accuracy: 0.8455\n",
            "Epoch 30/70\n",
            "10/10 [==============================] - 6s 609ms/step - loss: 0.0063 - accuracy: 1.0000 - val_loss: 0.3455 - val_accuracy: 0.8205\n",
            "Epoch 31/70\n",
            "10/10 [==============================] - 6s 614ms/step - loss: 0.0058 - accuracy: 1.0000 - val_loss: 0.3314 - val_accuracy: 0.8295\n",
            "Epoch 32/70\n",
            "10/10 [==============================] - 6s 613ms/step - loss: 0.0063 - accuracy: 1.0000 - val_loss: 0.3138 - val_accuracy: 0.8227\n",
            "Epoch 33/70\n",
            "10/10 [==============================] - 6s 601ms/step - loss: 0.0054 - accuracy: 1.0000 - val_loss: 0.3156 - val_accuracy: 0.8295\n",
            "Epoch 34/70\n",
            "10/10 [==============================] - 6s 591ms/step - loss: 0.0055 - accuracy: 1.0000 - val_loss: 0.3477 - val_accuracy: 0.7977\n",
            "Epoch 35/70\n",
            "10/10 [==============================] - 6s 602ms/step - loss: 0.0048 - accuracy: 1.0000 - val_loss: 0.3368 - val_accuracy: 0.8114\n",
            "Epoch 36/70\n",
            "10/10 [==============================] - 6s 594ms/step - loss: 0.0053 - accuracy: 1.0000 - val_loss: 0.3160 - val_accuracy: 0.8295\n",
            "Epoch 37/70\n",
            "10/10 [==============================] - 6s 593ms/step - loss: 0.0050 - accuracy: 1.0000 - val_loss: 0.3040 - val_accuracy: 0.8273\n",
            "Epoch 38/70\n",
            "10/10 [==============================] - 6s 590ms/step - loss: 0.0045 - accuracy: 1.0000 - val_loss: 0.3213 - val_accuracy: 0.8114\n",
            "Epoch 39/70\n",
            "10/10 [==============================] - 6s 589ms/step - loss: 0.0046 - accuracy: 1.0000 - val_loss: 0.2996 - val_accuracy: 0.8477\n",
            "Epoch 40/70\n",
            "10/10 [==============================] - 6s 592ms/step - loss: 0.0039 - accuracy: 1.0000 - val_loss: 0.3092 - val_accuracy: 0.8318\n",
            "Epoch 41/70\n",
            "10/10 [==============================] - 6s 594ms/step - loss: 0.0040 - accuracy: 1.0000 - val_loss: 0.3136 - val_accuracy: 0.8318\n",
            "Epoch 42/70\n",
            "10/10 [==============================] - 6s 603ms/step - loss: 0.0040 - accuracy: 1.0000 - val_loss: 0.3291 - val_accuracy: 0.8136\n",
            "Epoch 43/70\n",
            "10/10 [==============================] - 6s 588ms/step - loss: 0.0039 - accuracy: 1.0000 - val_loss: 0.3364 - val_accuracy: 0.8273\n",
            "Epoch 44/70\n",
            "10/10 [==============================] - 6s 586ms/step - loss: 0.0036 - accuracy: 1.0000 - val_loss: 0.3224 - val_accuracy: 0.8273\n",
            "Epoch 45/70\n",
            "10/10 [==============================] - 6s 589ms/step - loss: 0.0035 - accuracy: 1.0000 - val_loss: 0.3252 - val_accuracy: 0.8341\n",
            "Epoch 46/70\n",
            "10/10 [==============================] - 6s 592ms/step - loss: 0.0034 - accuracy: 1.0000 - val_loss: 0.2945 - val_accuracy: 0.8364\n",
            "Epoch 47/70\n",
            "10/10 [==============================] - 6s 590ms/step - loss: 0.0032 - accuracy: 1.0000 - val_loss: 0.3827 - val_accuracy: 0.8205\n",
            "Epoch 48/70\n",
            "10/10 [==============================] - 6s 594ms/step - loss: 0.0032 - accuracy: 1.0000 - val_loss: 0.3486 - val_accuracy: 0.8341\n",
            "Epoch 49/70\n",
            "10/10 [==============================] - 6s 597ms/step - loss: 0.0030 - accuracy: 1.0000 - val_loss: 0.3427 - val_accuracy: 0.8636\n",
            "Epoch 50/70\n",
            "10/10 [==============================] - 6s 589ms/step - loss: 0.0033 - accuracy: 1.0000 - val_loss: 0.3427 - val_accuracy: 0.8318\n",
            "Epoch 51/70\n",
            "10/10 [==============================] - 6s 611ms/step - loss: 0.0029 - accuracy: 1.0000 - val_loss: 0.3406 - val_accuracy: 0.8318\n",
            "Epoch 52/70\n",
            "10/10 [==============================] - 6s 597ms/step - loss: 0.0029 - accuracy: 1.0000 - val_loss: 0.3562 - val_accuracy: 0.8523\n",
            "Epoch 53/70\n",
            "10/10 [==============================] - 6s 598ms/step - loss: 0.0026 - accuracy: 1.0000 - val_loss: 0.3676 - val_accuracy: 0.8273\n",
            "Epoch 54/70\n",
            "10/10 [==============================] - 6s 603ms/step - loss: 0.0025 - accuracy: 1.0000 - val_loss: 0.3723 - val_accuracy: 0.8318\n",
            "Epoch 55/70\n",
            "10/10 [==============================] - 6s 612ms/step - loss: 0.0026 - accuracy: 1.0000 - val_loss: 0.3830 - val_accuracy: 0.8409\n",
            "Epoch 56/70\n",
            "10/10 [==============================] - 6s 618ms/step - loss: 0.0024 - accuracy: 1.0000 - val_loss: 0.3743 - val_accuracy: 0.8568\n",
            "Epoch 57/70\n",
            "10/10 [==============================] - 6s 602ms/step - loss: 0.0024 - accuracy: 1.0000 - val_loss: 0.3377 - val_accuracy: 0.8727\n",
            "Epoch 58/70\n",
            "10/10 [==============================] - 6s 612ms/step - loss: 0.0024 - accuracy: 1.0000 - val_loss: 0.4156 - val_accuracy: 0.8568\n",
            "Epoch 59/70\n",
            "10/10 [==============================] - 6s 614ms/step - loss: 0.0023 - accuracy: 1.0000 - val_loss: 0.4028 - val_accuracy: 0.8477\n",
            "Epoch 60/70\n",
            "10/10 [==============================] - 6s 626ms/step - loss: 0.0022 - accuracy: 1.0000 - val_loss: 0.4691 - val_accuracy: 0.8455\n",
            "Epoch 61/70\n",
            "10/10 [==============================] - 6s 626ms/step - loss: 0.0023 - accuracy: 1.0000 - val_loss: 0.4758 - val_accuracy: 0.8295\n",
            "Epoch 62/70\n",
            "10/10 [==============================] - 6s 626ms/step - loss: 0.0022 - accuracy: 1.0000 - val_loss: 0.4067 - val_accuracy: 0.8682\n",
            "Epoch 63/70\n",
            "10/10 [==============================] - 6s 610ms/step - loss: 0.0019 - accuracy: 1.0000 - val_loss: 0.4621 - val_accuracy: 0.8455\n",
            "Epoch 64/70\n",
            "10/10 [==============================] - 6s 616ms/step - loss: 0.0020 - accuracy: 1.0000 - val_loss: 0.4283 - val_accuracy: 0.8773\n",
            "Epoch 65/70\n",
            "10/10 [==============================] - 6s 615ms/step - loss: 0.0021 - accuracy: 1.0000 - val_loss: 0.4626 - val_accuracy: 0.8705\n",
            "Epoch 66/70\n",
            "10/10 [==============================] - 6s 608ms/step - loss: 0.0019 - accuracy: 1.0000 - val_loss: 0.4984 - val_accuracy: 0.8591\n",
            "Epoch 67/70\n",
            "10/10 [==============================] - 6s 617ms/step - loss: 0.0020 - accuracy: 1.0000 - val_loss: 0.4358 - val_accuracy: 0.8455\n",
            "Epoch 68/70\n",
            "10/10 [==============================] - 6s 589ms/step - loss: 0.0018 - accuracy: 1.0000 - val_loss: 0.4904 - val_accuracy: 0.8523\n",
            "Epoch 69/70\n",
            "10/10 [==============================] - 6s 582ms/step - loss: 0.0017 - accuracy: 1.0000 - val_loss: 0.4854 - val_accuracy: 0.8591\n",
            "Epoch 70/70\n",
            "10/10 [==============================] - 6s 602ms/step - loss: 0.0017 - accuracy: 1.0000 - val_loss: 0.4789 - val_accuracy: 0.8568\n"
          ]
        }
      ]
    },
    {
      "cell_type": "code",
      "metadata": {
        "id": "S0MN-N9TTNeR",
        "outputId": "79a9fba8-c1eb-4d23-a4ee-ab530251092e",
        "colab": {
          "base_uri": "https://localhost:8080/"
        }
      },
      "source": [
        "model.evaluate(gene(df[df.subset == 2],50),steps=650)"
      ],
      "execution_count": 62,
      "outputs": [
        {
          "output_type": "stream",
          "name": "stdout",
          "text": [
            "650/650 [==============================] - 49s 75ms/step - loss: 0.2946 - accuracy: 0.8879\n"
          ]
        },
        {
          "output_type": "execute_result",
          "data": {
            "text/plain": [
              "[0.2946281135082245, 0.8879384398460388]"
            ]
          },
          "metadata": {},
          "execution_count": 62
        }
      ]
    },
    {
      "cell_type": "code",
      "metadata": {
        "id": "sn-TId41TNeS",
        "outputId": "1a3e34e3-b483-4500-ab82-bf46530ee4e7",
        "colab": {
          "base_uri": "https://localhost:8080/"
        }
      },
      "source": [
        "test.history.keys()"
      ],
      "execution_count": 63,
      "outputs": [
        {
          "output_type": "execute_result",
          "data": {
            "text/plain": [
              "dict_keys(['loss', 'accuracy', 'val_loss', 'val_accuracy'])"
            ]
          },
          "metadata": {},
          "execution_count": 63
        }
      ]
    },
    {
      "cell_type": "code",
      "metadata": {
        "id": "cMRpxvRoTNeS",
        "outputId": "dc0bd00b-8a67-402d-9194-ee1762e77f4e",
        "colab": {
          "base_uri": "https://localhost:8080/",
          "height": 282
        }
      },
      "source": [
        "import matplotlib.pyplot as plt\n",
        "plt.plot(test.history['loss'],label='loss')\n",
        "plt.plot(test.history['val_loss'],label='validation_loss')\n",
        "plt.legend()"
      ],
      "execution_count": 64,
      "outputs": [
        {
          "output_type": "execute_result",
          "data": {
            "text/plain": [
              "<matplotlib.legend.Legend at 0x7f8df96f7550>"
            ]
          },
          "metadata": {},
          "execution_count": 64
        },
        {
          "output_type": "display_data",
          "data": {
            "image/png": "[encoded data removed]",
            "text/plain": [
              "<Figure size 432x288 with 1 Axes>"
            ]
          },
          "metadata": {
            "needs_background": "light"
          }
        }
      ]
    },
    {
      "cell_type": "code",
      "metadata": {
        "id": "1FHaqbIkTNeT",
        "outputId": "468fc36f-3312-4984-eb84-703f2f63e2c5",
        "colab": {
          "base_uri": "https://localhost:8080/",
          "height": 282
        }
      },
      "source": [
        "plt.plot(test.history['accuracy'],label='accuracy')\n",
        "plt.plot(test.history['val_accuracy'],label='validation_accuracy')\n",
        "plt.legend()"
      ],
      "execution_count": 65,
      "outputs": [
        {
          "output_type": "execute_result",
          "data": {
            "text/plain": [
              "<matplotlib.legend.Legend at 0x7f8df95656d0>"
            ]
          },
          "metadata": {},
          "execution_count": 65
        },
        {
          "output_type": "display_data",
          "data": {
            "image/png": "[encoded data removed]",
            "text/plain": [
              "<Figure size 432x288 with 1 Axes>"
            ]
          },
          "metadata": {
            "needs_background": "light"
          }
        }
      ]
    },
    {
      "cell_type": "code",
      "metadata": {
        "id": "2yW6dwWoTNeU"
      },
      "source": [
        "model.save('bee.h5')"
      ],
      "execution_count": 66,
      "outputs": []
    },
    {
      "cell_type": "code",
      "source": [
        "print(np.shape(df.iloc[0]['x']))"
      ],
      "metadata": {
        "id": "M32vNpeKpb5V",
        "colab": {
          "base_uri": "https://localhost:8080/"
        },
        "outputId": "6351180d-a1cf-45f5-fe6f-0bee3c830c64"
      },
      "execution_count": 67,
      "outputs": [
        {
          "output_type": "stream",
          "name": "stdout",
          "text": [
            "(64, 64, 3)\n"
          ]
        }
      ]
    },
    {
      "cell_type": "code",
      "metadata": {
        "id": "jPFf_LHKTNeU"
      },
      "source": [
        "def test_image(n):\n",
        "  img = df.iloc[n]['x']\n",
        "  img = np.array(img+img)\n",
        "  return model.predict(img)[0]"
      ],
      "execution_count": 68,
      "outputs": []
    },
    {
      "cell_type": "code",
      "source": [
        "def test_image(n):   \n",
        "  img = df.iloc[n]['x']\n",
        "  plt.imshow(df.iloc[n]['x'])\n",
        "  plt.imshow(df.iloc[n]['x'][:, :, ::-1])\n",
        "  img = np.array([img for i in range(2)])   \n",
        "  return model.predict(img)[0]"
      ],
      "metadata": {
        "id": "rMdDdqxKqF_S"
      },
      "execution_count": 69,
      "outputs": []
    },
    {
      "cell_type": "code",
      "source": [
        "test_image(1)"
      ],
      "metadata": {
        "id": "cW6tSg6bqqCE",
        "outputId": "1e96ca45-88f8-4140-beb6-8195bd1dfc6c",
        "colab": {
          "base_uri": "https://localhost:8080/",
          "height": 285
        }
      },
      "execution_count": 70,
      "outputs": [
        {
          "output_type": "execute_result",
          "data": {
            "text/plain": [
              "array([1.], dtype=float32)"
            ]
          },
          "metadata": {},
          "execution_count": 70
        },
        {
          "output_type": "display_data",
          "data": {
            "image/png": "[encoded data removed]",
            "text/plain": [
              "<Figure size 432x288 with 1 Axes>"
            ]
          },
          "metadata": {
            "needs_background": "light"
          }
        }
      ]
    }
  ]
}